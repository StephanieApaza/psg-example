{
 "cells": [
  {
   "cell_type": "markdown",
   "id": "8e05e38e",
   "metadata": {},
   "source": [
    "## Datos númericos"
   ]
  },
  {
   "cell_type": "markdown",
   "id": "949b075c",
   "metadata": {},
   "source": [
    "## Números enteros (Integers int)"
   ]
  },
  {
   "cell_type": "code",
   "execution_count": 1,
   "id": "61bf89a0",
   "metadata": {},
   "outputs": [
    {
     "name": "stdout",
     "output_type": "stream",
     "text": [
      "10\n",
      "<class 'int'>\n"
     ]
    }
   ],
   "source": [
    "print(10)\n",
    "print(type(10))"
   ]
  },
  {
   "cell_type": "code",
   "execution_count": 2,
   "id": "61b492ed",
   "metadata": {},
   "outputs": [
    {
     "name": "stdout",
     "output_type": "stream",
     "text": [
      "100\n",
      "<class 'int'>\n"
     ]
    }
   ],
   "source": [
    "variable = 100\n",
    "print(variable)\n",
    "print(type(variable))"
   ]
  },
  {
   "cell_type": "code",
   "execution_count": 3,
   "id": "888bdb02",
   "metadata": {},
   "outputs": [
    {
     "name": "stdout",
     "output_type": "stream",
     "text": [
      "20\n",
      "<class 'int'>\n"
     ]
    }
   ],
   "source": [
    "# variable 20 entero\n",
    "variable_2 = int(20)\n",
    "print(variable_2)\n",
    "print(type(variable_2))"
   ]
  },
  {
   "cell_type": "code",
   "execution_count": 4,
   "id": "abb54b07",
   "metadata": {},
   "outputs": [
    {
     "name": "stdout",
     "output_type": "stream",
     "text": [
      "Base decimal\n",
      "10\n"
     ]
    }
   ],
   "source": [
    "# Valor 10 en base decimal\n",
    "print(\"Base decimal\")\n",
    "print(10)"
   ]
  },
  {
   "cell_type": "code",
   "execution_count": 5,
   "id": "77feae15",
   "metadata": {},
   "outputs": [
    {
     "name": "stdout",
     "output_type": "stream",
     "text": [
      "Base binaria\n",
      "10\n"
     ]
    }
   ],
   "source": [
    "# Valor 10 binario\n",
    "print(\"Base binaria\")\n",
    "print(0b1010)"
   ]
  },
  {
   "cell_type": "code",
   "execution_count": 6,
   "id": "bb615994",
   "metadata": {},
   "outputs": [
    {
     "name": "stdout",
     "output_type": "stream",
     "text": [
      "Base octal\n",
      "10\n"
     ]
    }
   ],
   "source": [
    "# Valor 10 en octal\n",
    "print(\"Base octal\")\n",
    "print(0o12)"
   ]
  },
  {
   "cell_type": "code",
   "execution_count": 7,
   "id": "f293e2c6",
   "metadata": {},
   "outputs": [
    {
     "name": "stdout",
     "output_type": "stream",
     "text": [
      "Base hexadecimal\n",
      "10\n"
     ]
    }
   ],
   "source": [
    "# Valor 10 en hexadecimal\n",
    "print(\"Base hexadecimal\")\n",
    "print(0xa)"
   ]
  },
  {
   "cell_type": "code",
   "execution_count": 1,
   "id": "0b68b890",
   "metadata": {},
   "outputs": [
    {
     "name": "stdout",
     "output_type": "stream",
     "text": [
      "123456789012345678901234567890123456789012345678901234567890\n",
      "<class 'int'>\n"
     ]
    }
   ],
   "source": [
    "# Entero con 60 dígitos\n",
    "variable_3 = 123456789012345678901234567890123456789012345678901234567890\n",
    "print (variable_3)\n",
    "print (type (variable_3))"
   ]
  },
  {
   "cell_type": "markdown",
   "id": "eb3f2b61",
   "metadata": {},
   "source": [
    "## Números con punto (Floating float)"
   ]
  },
  {
   "cell_type": "code",
   "execution_count": 2,
   "id": "118cd504",
   "metadata": {},
   "outputs": [
    {
     "name": "stdout",
     "output_type": "stream",
     "text": [
      "0.5\n",
      "<class 'float'>\n"
     ]
    }
   ],
   "source": [
    "# Valor 0.5 float\n",
    "print(0.5)\n",
    "print(type(0.5))"
   ]
  },
  {
   "cell_type": "code",
   "execution_count": 10,
   "id": "32f6de7e",
   "metadata": {},
   "outputs": [
    {
     "name": "stdout",
     "output_type": "stream",
     "text": [
      "0.100464\n",
      "<class 'float'>\n"
     ]
    }
   ],
   "source": [
    "# Variable 0.100546\n",
    "variable_4 = 0.100464\n",
    "print(variable_4)\n",
    "print(type(variable_4))"
   ]
  },
  {
   "cell_type": "code",
   "execution_count": 11,
   "id": "8b98008b",
   "metadata": {},
   "outputs": [
    {
     "name": "stdout",
     "output_type": "stream",
     "text": [
      "1.0\n",
      "<class 'float'>\n"
     ]
    }
   ],
   "source": [
    "# Variable 1 flotante\n",
    "variable_7 = float(1)\n",
    "print(variable_7)\n",
    "print(type(variable_7))"
   ]
  },
  {
   "cell_type": "code",
   "execution_count": 3,
   "id": "fc7d614c",
   "metadata": {},
   "outputs": [
    {
     "name": "stdout",
     "output_type": "stream",
     "text": [
      "0.002\n",
      "<class 'float'>\n"
     ]
    }
   ],
   "source": [
    "# Valor 2.0e-3 Flotante\n",
    "variable_6 = 2.0e-3\n",
    "print(variable_6)\n",
    "print ( type (variable_6) )"
   ]
  },
  {
   "cell_type": "code",
   "execution_count": 12,
   "id": "1a61ac0b",
   "metadata": {},
   "outputs": [
    {
     "name": "stdout",
     "output_type": "stream",
     "text": [
      "1.0\n",
      "<class 'float'>\n"
     ]
    }
   ],
   "source": [
    "# Precision de 17 decimales\n",
    "variable_5 = 0.99999999999999999\n",
    "print(variable_5)\n",
    "print(type(variable_5))"
   ]
  },
  {
   "cell_type": "markdown",
   "id": "a03409db",
   "metadata": {},
   "source": [
    "## Operadores aritméticos"
   ]
  },
  {
   "cell_type": "code",
   "execution_count": 4,
   "id": "b3502ad3",
   "metadata": {},
   "outputs": [
    {
     "name": "stdout",
     "output_type": "stream",
     "text": [
      "Suma\n",
      "13\n"
     ]
    }
   ],
   "source": [
    "# Suma\n",
    "a = 10\n",
    "b = 3\n",
    "print(\"Suma\")\n",
    "print(a + b)"
   ]
  },
  {
   "cell_type": "code",
   "execution_count": 15,
   "id": "a5d3f1a3",
   "metadata": {},
   "outputs": [
    {
     "name": "stdout",
     "output_type": "stream",
     "text": [
      "Resta\n",
      "7\n"
     ]
    }
   ],
   "source": [
    "# Resta\n",
    "print(\"Resta\")\n",
    "print(a - b)"
   ]
  },
  {
   "cell_type": "code",
   "execution_count": 16,
   "id": "57b87642",
   "metadata": {},
   "outputs": [
    {
     "name": "stdout",
     "output_type": "stream",
     "text": [
      "Multiplicacion\n",
      "30\n"
     ]
    }
   ],
   "source": [
    "# Multiplicacion\n",
    "print(\"Multiplicacion\")\n",
    "print(a * b)"
   ]
  },
  {
   "cell_type": "code",
   "execution_count": 17,
   "id": "3660b20f",
   "metadata": {},
   "outputs": [
    {
     "name": "stdout",
     "output_type": "stream",
     "text": [
      "Division\n",
      "3.3333333333333335\n"
     ]
    }
   ],
   "source": [
    "# Division\n",
    "print(\"Division\")\n",
    "print(a / b)"
   ]
  },
  {
   "cell_type": "code",
   "execution_count": 18,
   "id": "100d5012",
   "metadata": {},
   "outputs": [
    {
     "name": "stdout",
     "output_type": "stream",
     "text": [
      "Potencia\n",
      "1000\n"
     ]
    }
   ],
   "source": [
    "# Potencia\n",
    "print(\"Potencia\")\n",
    "print(a ** b)"
   ]
  },
  {
   "cell_type": "code",
   "execution_count": 19,
   "id": "5ccf61a8",
   "metadata": {},
   "outputs": [
    {
     "name": "stdout",
     "output_type": "stream",
     "text": [
      "Division entera\n",
      "3\n"
     ]
    }
   ],
   "source": [
    "# Division entera\n",
    "print(\"Division entera\")\n",
    "print(a // b)"
   ]
  },
  {
   "cell_type": "code",
   "execution_count": 20,
   "id": "1e004f54",
   "metadata": {},
   "outputs": [
    {
     "name": "stdout",
     "output_type": "stream",
     "text": [
      "Modulo o residuo\n",
      "1\n"
     ]
    }
   ],
   "source": [
    "# Modulo o residuo\n",
    "print(\"Modulo o residuo\")\n",
    "print(a % b)"
   ]
  },
  {
   "cell_type": "code",
   "execution_count": 21,
   "id": "bdd51ee7",
   "metadata": {},
   "outputs": [
    {
     "name": "stdout",
     "output_type": "stream",
     "text": [
      "6.0\n"
     ]
    }
   ],
   "source": [
    "# Operaciones más complejas\n",
    "c = 300/60\n",
    "s = (3600/60)/60\n",
    "d = c + s\n",
    "print(d)"
   ]
  },
  {
   "cell_type": "markdown",
   "id": "80b309d5",
   "metadata": {},
   "source": [
    "## Operadores de comparación"
   ]
  },
  {
   "cell_type": "code",
   "execution_count": 22,
   "id": "c5610923",
   "metadata": {},
   "outputs": [
    {
     "name": "stdout",
     "output_type": "stream",
     "text": [
      "Operadores de comparación\n",
      "False\n",
      "False\n",
      "True\n",
      "True\n",
      "True\n",
      "False\n"
     ]
    }
   ],
   "source": [
    "# Operadores de comparación\n",
    "print(\"Operadores de comparación\")\n",
    "comparar = 10\n",
    "print(comparar < 10)\n",
    "print(comparar > 10)\n",
    "print(comparar == 10)\n",
    "print(comparar <= 10)\n",
    "print(comparar >= 10)\n",
    "print(comparar != 10)"
   ]
  },
  {
   "cell_type": "code",
   "execution_count": 5,
   "id": "6140e5b3",
   "metadata": {},
   "outputs": [
    {
     "name": "stdout",
     "output_type": "stream",
     "text": [
      "Operadores de comparación con int - float\n",
      "False\n",
      "False\n",
      "True\n",
      "True\n",
      "True\n",
      "False\n"
     ]
    }
   ],
   "source": [
    "print (\"Operadores de comparación con int - float\")\n",
    "entero = 10\n",
    "flotante = 10.0\n",
    "print (entero < flotante)\n",
    "print (entero > flotante)\n",
    "print (entero == flotante)\n",
    "print (entero <= flotante)\n",
    "print (entero >= flotante)\n",
    "print (entero != flotante)"
   ]
  }
 ],
 "metadata": {
  "kernelspec": {
   "display_name": "Python 3",
   "language": "python",
   "name": "python3"
  },
  "language_info": {
   "codemirror_mode": {
    "name": "ipython",
    "version": 3
   },
   "file_extension": ".py",
   "mimetype": "text/x-python",
   "name": "python",
   "nbconvert_exporter": "python",
   "pygments_lexer": "ipython3",
   "version": "3.13.3"
  }
 },
 "nbformat": 4,
 "nbformat_minor": 5
}
