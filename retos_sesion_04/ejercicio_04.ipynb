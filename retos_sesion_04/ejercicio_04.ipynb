{
 "cells": [
  {
   "cell_type": "markdown",
   "id": "e76e3502",
   "metadata": {},
   "source": [
    "**La Búsqueda del Anillo Único**\n",
    "En este juego de estrategia, dos facciones opuestas: la Comunidad del Anillo y las Fuerzas de Sauron \n",
    "compiten por alcanzar el Monte del Destino. El objetivo es destruir o reclamar el Anillo Único. \n",
    "Solo uno podrá controlar el destino de la Tierra Media."
   ]
  },
  {
   "cell_type": "markdown",
   "id": "5df689e4",
   "metadata": {},
   "source": [
    "**Reglas del Juego**\n",
    "1. El tablero es una cuadrícula de 6x6.\n",
    "2. El jugador 1 controla la Comunidad del Anillo (símbolo **C**).\n",
    "3. El jugador 2 controla las Fuerzas de Sauron (símbolo **S**).\n",
    "4. El Anillo (**O**) se encuentra en el centro del tablero.\n",
    "5. Cada jugador puede moverse solo una casilla por turno (vertical u horizontal).\n",
    "6. Si un jugador llega al Anillo, gana la partida.\n",
    "7. Si ambos jugadores llegan al mismo tiempo, hay combate (se representa con una **X**).\n",
    "   El combate se resuelve lanzando un dado virtual (número aleatorio del 1 al 6) para cada jugador.\n",
    "   El jugador con el número más alto gana el combate y permanece en la casilla.\n",
    "   El perdedor es eliminado del juego.\n",
    "   Si hay empate ambos retroceden una casilla."
   ]
  },
  {
   "cell_type": "code",
   "execution_count": 7,
   "id": "09d02cc2",
   "metadata": {},
   "outputs": [
    {
     "name": "stdout",
     "output_type": "stream",
     "text": [
      "   1   2   3   4   5   6   7   8   9   10\n",
      "1  |   |   |   |   |   |   |   |   |   |\n",
      "2  |   |   |   |   |   |   |   |   |   |\n",
      "3  |   |   |   |   |   |   |   |   |   |\n",
      "4  |   |   |   |   |   |   |   |   |   |\n",
      "5  |   |   |   |   |   |   |   |   |   |\n",
      "6  |   |   |   |   |   |   |   |   |   |\n",
      "7  |   |   |   |   |   |   |   |   |   |\n",
      "8  |   |   |   |   |   |   |   |   |   |\n",
      "9  |   |   |   |   |   |   |   |   |   |\n",
      "10 |   |   |   |   |   |   |   |   |   |\n"
     ]
    }
   ],
   "source": [
    "# Diseño del tablero de 6x6\n",
    "print(\"   1   2   3   4   5   6   7   8   9   10\")\n",
    "print(\"1  |   |   |   |   |   |   |   |   |   |\")\n",
    "print(\"2  |   |   |   |   |   |   |   |   |   |\")\n",
    "print(\"3  |   |   |   |   |   |   |   |   |   |\")\n",
    "print(\"4  |   |   |   |   |   |   |   |   |   |\")\n",
    "print(\"5  |   |   |   |   |   |   |   |   |   |\")\n",
    "print(\"6  |   |   |   |   |   |   |   |   |   |\")\n",
    "print(\"7  |   |   |   |   |   |   |   |   |   |\")\n",
    "print(\"8  |   |   |   |   |   |   |   |   |   |\")\n",
    "print(\"9  |   |   |   |   |   |   |   |   |   |\")\n",
    "print(\"10 |   |   |   |   |   |   |   |   |   |\")"
   ]
  },
  {
   "cell_type": "markdown",
   "id": "e980eb9e",
   "metadata": {},
   "source": [
    "**Piezas del Juego**\n",
    "\n",
    "**C**: Comunidad del Anillo\n",
    "**S**: Fuerzas de Sauron\n",
    "**O**: Anillo Único (ubicado en el centro del tablero)\n",
    "**X**: Zona de combate"
   ]
  },
  {
   "cell_type": "code",
   "execution_count": 8,
   "id": "85cab131",
   "metadata": {},
   "outputs": [
    {
     "name": "stdout",
     "output_type": "stream",
     "text": [
      "   1   2   3   4   5   6   7   8   9   10\n",
      "1  | C | C |   |   |   |   |   |   |   |\n",
      "2  |   |   |   |   |   |   |   |   |   |\n",
      "3  |   |   |   |   |   |   |   |   |   |\n",
      "4  |   |   |   | X | X | X |   |   |   |\n",
      "5  |   |   |   | X | O | X |   |   |   |\n",
      "6  |   |   |   | X | X | X |   |   |   |\n",
      "7  |   |   |   |   |   |   |   |   |   |\n",
      "8  |   |   |   |   |   |   |   |   |   |\n",
      "9  |   |   |   |   |   |   |   |   | S |\n",
      "10 |   |   |   |   |   |   |   |   | S |\n"
     ]
    }
   ],
   "source": [
    "#Diseño de las piezas en el bloque del código\n",
    "print(\"   1   2   3   4   5   6   7   8   9   10\")\n",
    "print(\"1  | C | C |   |   |   |   |   |   |   |\")\n",
    "print(\"2  |   |   |   |   |   |   |   |   |   |\")\n",
    "print(\"3  |   |   |   |   |   |   |   |   |   |\")\n",
    "print(\"4  |   |   |   | X | X | X |   |   |   |\")\n",
    "print(\"5  |   |   |   | X | O | X |   |   |   |\")\n",
    "print(\"6  |   |   |   | X | X | X |   |   |   |\")\n",
    "print(\"7  |   |   |   |   |   |   |   |   |   |\")\n",
    "print(\"8  |   |   |   |   |   |   |   |   |   |\")\n",
    "print(\"9  |   |   |   |   |   |   |   |   | S |\")\n",
    "print(\"10 |   |   |   |   |   |   |   |   | S |\")"
   ]
  }
 ],
 "metadata": {
  "kernelspec": {
   "display_name": "Python 3",
   "language": "python",
   "name": "python3"
  },
  "language_info": {
   "codemirror_mode": {
    "name": "ipython",
    "version": 3
   },
   "file_extension": ".py",
   "mimetype": "text/x-python",
   "name": "python",
   "nbconvert_exporter": "python",
   "pygments_lexer": "ipython3",
   "version": "3.13.3"
  }
 },
 "nbformat": 4,
 "nbformat_minor": 5
}
