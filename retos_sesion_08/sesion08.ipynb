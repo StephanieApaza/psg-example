{
 "cells": [
  {
   "cell_type": "markdown",
   "id": "6e974495",
   "metadata": {},
   "source": [
    "# Tuplas"
   ]
  },
  {
   "cell_type": "markdown",
   "id": "944a1ef9",
   "metadata": {},
   "source": [
    "### Son inmutables"
   ]
  },
  {
   "cell_type": "code",
   "execution_count": 1,
   "id": "8c07898c",
   "metadata": {},
   "outputs": [],
   "source": [
    "tupla = (1,2,3)\n",
    "#tupla[0] = 4"
   ]
  },
  {
   "cell_type": "markdown",
   "id": "9cc18d6d",
   "metadata": {},
   "source": [
    "### Son ordenadas"
   ]
  },
  {
   "cell_type": "code",
   "execution_count": 2,
   "id": "9d4cfeda",
   "metadata": {},
   "outputs": [
    {
     "name": "stdout",
     "output_type": "stream",
     "text": [
      "False\n"
     ]
    }
   ],
   "source": [
    "tupla1 = (1,2,3)\n",
    "tupla2 = (3,2,1)\n",
    "print (tupla1 == tupla2)"
   ]
  },
  {
   "cell_type": "markdown",
   "id": "2d9ab5af",
   "metadata": {},
   "source": [
    "### Tupla de enteros"
   ]
  },
  {
   "cell_type": "code",
   "execution_count": 1,
   "id": "d0cdefec",
   "metadata": {},
   "outputs": [
    {
     "name": "stdout",
     "output_type": "stream",
     "text": [
      "(1, 2, 3, 4, 5, 6)\n",
      "<class 'tuple'>\n"
     ]
    }
   ],
   "source": [
    "enteros = (1,2,3,4,5,6)\n",
    "print (enteros)\n",
    "print (type(enteros))"
   ]
  },
  {
   "cell_type": "markdown",
   "id": "5c926152",
   "metadata": {},
   "source": [
    "### Son indexadas"
   ]
  },
  {
   "cell_type": "code",
   "execution_count": null,
   "id": "b43fc6b4",
   "metadata": {},
   "outputs": [
    {
     "data": {
      "text/plain": [
       "3"
      ]
     },
     "execution_count": 3,
     "metadata": {},
     "output_type": "execute_result"
    }
   ],
   "source": [
    "tupla = (1,2,3)\n",
    "tupla[0] #1\n",
    "tupla[1] #2\n",
    "tupla[2] #3"
   ]
  },
  {
   "cell_type": "markdown",
   "id": "cb273c84",
   "metadata": {},
   "source": [
    "### Usos de una tupla"
   ]
  },
  {
   "cell_type": "code",
   "execution_count": 4,
   "id": "924bd679",
   "metadata": {},
   "outputs": [],
   "source": [
    "# 1. Empaquetado y desempaquetado de valores\n",
    "coordenadas = (3,5)\n",
    "x,y = coordenadas"
   ]
  },
  {
   "cell_type": "code",
   "execution_count": 5,
   "id": "71ebc4de",
   "metadata": {},
   "outputs": [],
   "source": [
    "# 2. Enviar y devolver múltiples valores de una función\n",
    "def coordenadas(coordenada):\n",
    "    x,y = coordenada\n",
    "    x = x + 1\n",
    "    y = y + 1\n",
    "    return (x,y)"
   ]
  },
  {
   "cell_type": "code",
   "execution_count": 6,
   "id": "7b9e31b7",
   "metadata": {},
   "outputs": [],
   "source": [
    "# 3. En diccionarios se puede utilizar una tupla como llave compuesta\n",
    "agenda = {('Juan','Perez'): 1234567}"
   ]
  },
  {
   "cell_type": "markdown",
   "id": "3a357fdf",
   "metadata": {},
   "source": [
    "### Una tupla puede almacenar cualquier tipo de dato a la vez"
   ]
  },
  {
   "cell_type": "code",
   "execution_count": 8,
   "id": "d3dc1210",
   "metadata": {},
   "outputs": [
    {
     "name": "stdout",
     "output_type": "stream",
     "text": [
      "(1, 2.0, 'hola', True)\n"
     ]
    }
   ],
   "source": [
    "tupla = (1,2.0,'hola',True)\n",
    "print(tupla)"
   ]
  },
  {
   "cell_type": "markdown",
   "id": "de8f3710",
   "metadata": {},
   "source": [
    "### Tupla de enteros"
   ]
  },
  {
   "cell_type": "code",
   "execution_count": 9,
   "id": "0ac623ae",
   "metadata": {},
   "outputs": [
    {
     "name": "stdout",
     "output_type": "stream",
     "text": [
      "Tupla de enteros\n",
      "(1, 2, 3, 4, 5, 6)\n",
      "<class 'tuple'>\n"
     ]
    }
   ],
   "source": [
    "print (\"Tupla de enteros\")\n",
    "enteros = (1,2,3,4,5,6)\n",
    "print (enteros)\n",
    "print (type(enteros))"
   ]
  },
  {
   "cell_type": "markdown",
   "id": "9a4dadfb",
   "metadata": {},
   "source": [
    "### Tupla de cadenas"
   ]
  },
  {
   "cell_type": "code",
   "execution_count": 10,
   "id": "f3c3ef05",
   "metadata": {},
   "outputs": [
    {
     "name": "stdout",
     "output_type": "stream",
     "text": [
      "Tupla de cadenas\n",
      "('hola', 'mundo', 'desde', 'python')\n",
      "<class 'tuple'>\n"
     ]
    }
   ],
   "source": [
    "print (\"Tupla de cadenas\")\n",
    "cadenas = (\"hola\", \"mundo\", \"desde\", \"python\")\n",
    "print (cadenas)\n",
    "print (type(cadenas))"
   ]
  },
  {
   "cell_type": "markdown",
   "id": "3b57d787",
   "metadata": {},
   "source": [
    "### Tupla Mixta"
   ]
  },
  {
   "cell_type": "code",
   "execution_count": 11,
   "id": "a9071b1f",
   "metadata": {},
   "outputs": [
    {
     "name": "stdout",
     "output_type": "stream",
     "text": [
      "Tupla Mixta\n",
      "(1, 'hola', True, 2.5)\n",
      "<class 'tuple'>\n"
     ]
    }
   ],
   "source": [
    "print (\"Tupla Mixta\") \n",
    "mixta = (1, \"hola\", True, 2.5)\n",
    "print (mixta)\n",
    "print (type(mixta))"
   ]
  },
  {
   "cell_type": "markdown",
   "id": "75edf1d8",
   "metadata": {},
   "source": [
    "### Tupla vacia"
   ]
  },
  {
   "cell_type": "code",
   "execution_count": 12,
   "id": "d204204d",
   "metadata": {},
   "outputs": [
    {
     "name": "stdout",
     "output_type": "stream",
     "text": [
      "Tupla vacia\n",
      "()\n",
      "<class 'tuple'>\n"
     ]
    }
   ],
   "source": [
    "print (\"Tupla vacia\")\n",
    "vacia = ()\n",
    "print (vacia)\n",
    "print (type(vacia))"
   ]
  },
  {
   "cell_type": "markdown",
   "id": "6d430b3f",
   "metadata": {},
   "source": [
    "### Tupla de un solo elemento"
   ]
  },
  {
   "cell_type": "code",
   "execution_count": 13,
   "id": "2ae18cfa",
   "metadata": {},
   "outputs": [
    {
     "name": "stdout",
     "output_type": "stream",
     "text": [
      "Tupla de un solo elemento\n",
      "(1,)\n",
      "<class 'tuple'>\n"
     ]
    }
   ],
   "source": [
    "print (\"Tupla de un solo elemento\")\n",
    "uno = (1,)\n",
    "print (uno)\n",
    "print (type(uno))"
   ]
  },
  {
   "cell_type": "markdown",
   "id": "caa64f59",
   "metadata": {},
   "source": [
    "### Tupla de una cadena"
   ]
  },
  {
   "cell_type": "code",
   "execution_count": 3,
   "id": "ee7a6a0f",
   "metadata": {},
   "outputs": [
    {
     "name": "stdout",
     "output_type": "stream",
     "text": [
      "Tupla utilizando la función tuple()\n",
      "('h', 'o', 'l', 'a')\n",
      "<class 'tuple'>\n"
     ]
    }
   ],
   "source": [
    "print (\"Tupla utilizando la función tuple()\")\n",
    "constructor = tuple(\"hola\")\n",
    "print (constructor)\n",
    "print (type(constructor))"
   ]
  },
  {
   "cell_type": "markdown",
   "id": "ded798d1",
   "metadata": {},
   "source": [
    "## Indexación y slicing"
   ]
  },
  {
   "cell_type": "markdown",
   "id": "2d974e04",
   "metadata": {},
   "source": [
    "### Acceso utilizando índices positivos"
   ]
  },
  {
   "cell_type": "code",
   "execution_count": 4,
   "id": "9c705095",
   "metadata": {},
   "outputs": [
    {
     "name": "stdout",
     "output_type": "stream",
     "text": [
      "Indexado positivo de una tupla\n",
      "1 <class 'int'>\n",
      "2.0 <class 'float'>\n",
      "hola <class 'str'>\n",
      "True <class 'bool'>\n"
     ]
    }
   ],
   "source": [
    "print (\"Indexado positivo de una tupla\")\n",
    "tupla = (1,2.0, \"hola\", True)\n",
    "print (tupla[0], type(tupla[0]))\n",
    "print (tupla[1], type(tupla[1]))\n",
    "print (tupla[2], type(tupla[2]))\n",
    "print (tupla[3], type(tupla[3]))"
   ]
  },
  {
   "cell_type": "markdown",
   "id": "e0f88aa5",
   "metadata": {},
   "source": [
    "### Acceso utilizando índices negativos"
   ]
  },
  {
   "cell_type": "code",
   "execution_count": 5,
   "id": "1652423c",
   "metadata": {},
   "outputs": [
    {
     "name": "stdout",
     "output_type": "stream",
     "text": [
      "Indexado negativo de una tupla\n",
      "True <class 'bool'>\n",
      "hola <class 'str'>\n",
      "2.0 <class 'float'>\n",
      "1 <class 'int'>\n"
     ]
    }
   ],
   "source": [
    "print (\"Indexado negativo de una tupla\")\n",
    "tupla = (1,2.0, \"hola\", True)\n",
    "print (tupla[-1], type(tupla[-1]))\n",
    "print (tupla[-2], type(tupla[-2]))\n",
    "print (tupla[-3], type(tupla[-3]))\n",
    "print (tupla[-4], type(tupla[-4]))"
   ]
  },
  {
   "cell_type": "markdown",
   "id": "0a614e7d",
   "metadata": {},
   "source": [
    "### Slicing de una tupla"
   ]
  },
  {
   "cell_type": "code",
   "execution_count": 14,
   "id": "afbdfc7f",
   "metadata": {},
   "outputs": [
    {
     "name": "stdout",
     "output_type": "stream",
     "text": [
      "Slicing de una tupla\n",
      "(0, 1, 2, 3, 4, 5, 6, 7, 8, 9, 10)\n",
      "(0, 1, 2, 3, 4)\n",
      "<class 'tuple'>\n"
     ]
    }
   ],
   "source": [
    "print (\"Slicing de una tupla\")\n",
    "tupla = (0,1,2,3,4,5,6,7,8,9,10)\n",
    "print (tupla)\n",
    "sub_tupla = tupla[0:5]\n",
    "print (sub_tupla)\n",
    "print (type(sub_tupla))"
   ]
  },
  {
   "cell_type": "markdown",
   "id": "fcef5cf3",
   "metadata": {},
   "source": [
    "### Slicing con paso positivo"
   ]
  },
  {
   "cell_type": "code",
   "execution_count": 15,
   "id": "18660f3e",
   "metadata": {},
   "outputs": [
    {
     "name": "stdout",
     "output_type": "stream",
     "text": [
      "Slicing de una tupla con saltos\n",
      "(0, 1, 2, 3, 4, 5, 6, 7, 8, 9, 10)\n",
      "(0, 2, 4, 6, 8)\n",
      "<class 'tuple'>\n"
     ]
    }
   ],
   "source": [
    "print (\"Slicing de una tupla con saltos\")\n",
    "tupla = (0,1,2,3,4,5,6,7,8,9,10)\n",
    "print (tupla)\n",
    "sub_tupla = tupla[0:10:2]\n",
    "print (sub_tupla)\n",
    "print (type(sub_tupla))"
   ]
  },
  {
   "cell_type": "markdown",
   "id": "f76563b8",
   "metadata": {},
   "source": [
    "### Slicing con paso negativo"
   ]
  },
  {
   "cell_type": "code",
   "execution_count": 16,
   "id": "2bcb0fee",
   "metadata": {},
   "outputs": [
    {
     "name": "stdout",
     "output_type": "stream",
     "text": [
      "Slicing de una tupla con saltos negativos\n",
      "(0, 1, 2, 3, 4, 5, 6, 7, 8, 9, 10)\n",
      "(7, 5, 3)\n",
      "<class 'tuple'>\n"
     ]
    }
   ],
   "source": [
    "print (\"Slicing de una tupla con saltos negativos\")\n",
    "tupla = (0,1,2,3,4,5,6,7,8,9,10)\n",
    "print (tupla)\n",
    "sub_tupla = tupla[7:2:-2]\n",
    "print (sub_tupla)\n",
    "print (type(sub_tupla))"
   ]
  },
  {
   "cell_type": "markdown",
   "id": "15ad3cd9",
   "metadata": {},
   "source": [
    "### Slicing para revertir una tupla"
   ]
  },
  {
   "cell_type": "code",
   "execution_count": 9,
   "id": "de16dff7",
   "metadata": {},
   "outputs": [
    {
     "name": "stdout",
     "output_type": "stream",
     "text": [
      "(0, 1, 2, 3, 4, 5, 6, 7, 8, 9, 10)\n",
      "(10, 9, 8, 7, 6, 5, 4, 3, 2, 1, 0)\n",
      "<class 'tuple'>\n"
     ]
    }
   ],
   "source": [
    "tupla = (0,1,2,3,4,5,6,7,8,9,10)\n",
    "print (tupla)\n",
    "sub_tupla = tupla[-1::-1]\n",
    "print (sub_tupla)\n",
    "print (type(sub_tupla))"
   ]
  },
  {
   "cell_type": "markdown",
   "id": "a3e5f0d3",
   "metadata": {},
   "source": [
    "### Concatenación de tuplas"
   ]
  },
  {
   "cell_type": "code",
   "execution_count": 17,
   "id": "64bf3f07",
   "metadata": {},
   "outputs": [
    {
     "name": "stdout",
     "output_type": "stream",
     "text": [
      "Concatenación de tuplas\n",
      "(1, 2, 3) (4, 5, 6)\n",
      "(1, 2, 3, 4, 5, 6)\n",
      "<class 'tuple'>\n"
     ]
    }
   ],
   "source": [
    "print (\"Concatenación de tuplas\")\n",
    "tupla1 = (1,2,3)\n",
    "tupla2 = (4,5,6)\n",
    "concatenar = tupla1 + tupla2\n",
    "print (tupla1, tupla2)\n",
    "print (concatenar)\n",
    "print (type(concatenar))"
   ]
  },
  {
   "cell_type": "markdown",
   "id": "66aeb2ec",
   "metadata": {},
   "source": [
    "### Repetición de tuplas"
   ]
  },
  {
   "cell_type": "code",
   "execution_count": 18,
   "id": "aa6f85fb",
   "metadata": {},
   "outputs": [
    {
     "name": "stdout",
     "output_type": "stream",
     "text": [
      "Repetición de tuplas\n",
      "(1, 2, 3)\n",
      "(1, 2, 3, 1, 2, 3, 1, 2, 3)\n",
      "<class 'tuple'>\n"
     ]
    }
   ],
   "source": [
    "print (\"Repetición de tuplas\")\n",
    "tupla = (1,2,3)\n",
    "repetir = tupla * 3\n",
    "print (tupla)\n",
    "print (repetir)\n",
    "print (type(repetir))"
   ]
  },
  {
   "cell_type": "markdown",
   "id": "a2981e6c",
   "metadata": {},
   "source": [
    "### Asignación múltiple de valores"
   ]
  },
  {
   "cell_type": "code",
   "execution_count": 19,
   "id": "850d0a19",
   "metadata": {},
   "outputs": [
    {
     "name": "stdout",
     "output_type": "stream",
     "text": [
      "Asignación múltiple\n",
      "('Jhon', 'Doe', 22, 1.75)\n",
      "Jhon\n",
      "Doe\n",
      "22\n",
      "1.75\n"
     ]
    }
   ],
   "source": [
    "print (\"Asignación múltiple\")\n",
    "persona = (\"Jhon\", \"Doe\", 22, 1.75)\n",
    "nombre, apellido, edad, estatura = persona\n",
    "print (persona)\n",
    "print (nombre)\n",
    "print (apellido)\n",
    "print (edad)\n",
    "print (estatura)"
   ]
  },
  {
   "cell_type": "markdown",
   "id": "39d667e0",
   "metadata": {},
   "source": [
    "## Métodos de tuplas"
   ]
  },
  {
   "cell_type": "markdown",
   "id": "2d56fbe9",
   "metadata": {},
   "source": [
    "### Método index(valor)"
   ]
  },
  {
   "cell_type": "code",
   "execution_count": 20,
   "id": "bd8de80c",
   "metadata": {},
   "outputs": [
    {
     "name": "stdout",
     "output_type": "stream",
     "text": [
      "Método index(valor)\n",
      "1\n",
      "2\n"
     ]
    }
   ],
   "source": [
    "print (\"Método index(valor)\")\n",
    "tupla = (1,2.0, \"hola\", True)\n",
    "print (tupla.index(2.0))\n",
    "print (tupla.index(\"hola\"))"
   ]
  },
  {
   "cell_type": "markdown",
   "id": "48b374db",
   "metadata": {},
   "source": [
    "### Método count(valor)"
   ]
  },
  {
   "cell_type": "code",
   "execution_count": 21,
   "id": "dc260f77",
   "metadata": {},
   "outputs": [
    {
     "name": "stdout",
     "output_type": "stream",
     "text": [
      "Método count(valor)\n",
      "1\n",
      "2\n",
      "0\n"
     ]
    }
   ],
   "source": [
    "print (\"Método count(valor)\")\n",
    "tupla = (1, 2.0, \"hola\", False, \"hola\", \"HOLA\")\n",
    "print (tupla.count(1))\n",
    "print (tupla.count(\"hola\"))\n",
    "print (tupla.count(10))"
   ]
  },
  {
   "cell_type": "markdown",
   "id": "9aebf25f",
   "metadata": {},
   "source": [
    "## Funciones con tupla"
   ]
  },
  {
   "cell_type": "markdown",
   "id": "9076f487",
   "metadata": {},
   "source": [
    "### Función len()"
   ]
  },
  {
   "cell_type": "code",
   "execution_count": 22,
   "id": "5d32e0a8",
   "metadata": {},
   "outputs": [
    {
     "name": "stdout",
     "output_type": "stream",
     "text": [
      "Función len()\n",
      "(1, 2.0, 'hola', True)\n",
      "4\n"
     ]
    }
   ],
   "source": [
    "print (\"Función len()\")\n",
    "tupla = (1,2.0, \"hola\", True)\n",
    "longitud = len(tupla)\n",
    "print (tupla)\n",
    "print (longitud)"
   ]
  },
  {
   "cell_type": "markdown",
   "id": "c3bc87f0",
   "metadata": {},
   "source": [
    "### Función max()"
   ]
  },
  {
   "cell_type": "code",
   "execution_count": 23,
   "id": "2b7e6f10",
   "metadata": {},
   "outputs": [
    {
     "name": "stdout",
     "output_type": "stream",
     "text": [
      "Función max()\n",
      "(1, 2, 10, 5, 8, 0)\n",
      "10\n"
     ]
    }
   ],
   "source": [
    "print (\"Función max()\")\n",
    "tupla = (1,2,10,5,8,0)\n",
    "maximo = max(tupla)\n",
    "print (tupla)\n",
    "print (maximo)"
   ]
  },
  {
   "cell_type": "markdown",
   "id": "4450ced4",
   "metadata": {},
   "source": [
    "### Función min()"
   ]
  },
  {
   "cell_type": "code",
   "execution_count": 24,
   "id": "e756098b",
   "metadata": {},
   "outputs": [
    {
     "name": "stdout",
     "output_type": "stream",
     "text": [
      "Función min()\n",
      "('a', 'z', 'c', 'b', 'f', 'd')\n",
      "a\n"
     ]
    }
   ],
   "source": [
    "print (\"Función min()\")\n",
    "tupla = (\"a\",\"z\",\"c\",\"b\",\"f\",\"d\")\n",
    "minimo = min(tupla)\n",
    "print (tupla)\n",
    "print (minimo)"
   ]
  },
  {
   "cell_type": "markdown",
   "id": "9fe7e574",
   "metadata": {},
   "source": [
    "### Función sum()"
   ]
  },
  {
   "cell_type": "code",
   "execution_count": 25,
   "id": "98548e74",
   "metadata": {},
   "outputs": [
    {
     "name": "stdout",
     "output_type": "stream",
     "text": [
      "Función sum()\n",
      "(1.0, 0.5, 2.5, 3.1)\n",
      "7.1\n"
     ]
    }
   ],
   "source": [
    "print (\"Función sum()\")\n",
    "tupla = (1.0, 0.5, 2.5, 3.1)\n",
    "suma = sum(tupla)\n",
    "print (tupla)\n",
    "print (suma)"
   ]
  },
  {
   "cell_type": "markdown",
   "id": "5db717fd",
   "metadata": {},
   "source": [
    "## Tuplas anidadas"
   ]
  },
  {
   "cell_type": "code",
   "execution_count": 26,
   "id": "4743ee06",
   "metadata": {},
   "outputs": [
    {
     "name": "stdout",
     "output_type": "stream",
     "text": [
      "Tuplas anidadas\n",
      "(1, 2, 3, (4, 5, 6))\n",
      "(1, 2, 3, (4, 5, 6)) <class 'tuple'>\n",
      "(4, 5, 6) <class 'tuple'>\n",
      "4 <class 'int'>\n"
     ]
    }
   ],
   "source": [
    "print (\"Tuplas anidadas\")\n",
    "tupla = (1,2,3, (4,5,6))\n",
    "print (tupla)\n",
    "print (tupla, type(tupla))\n",
    "print (tupla[3], type(tupla[3]))\n",
    "print (tupla[3][0], type(tupla[3][0]))"
   ]
  },
  {
   "cell_type": "markdown",
   "id": "14b9578e",
   "metadata": {},
   "source": [
    "### Anidado al detalle"
   ]
  },
  {
   "cell_type": "code",
   "execution_count": 27,
   "id": "ed55d542",
   "metadata": {},
   "outputs": [
    {
     "name": "stdout",
     "output_type": "stream",
     "text": [
      "Tuplas anidadas\n",
      "(1, 2, 3, (4, 5, 6)) <class 'tuple'>\n",
      "(4, 5, 6) <class 'tuple'>\n",
      "4 <class 'int'>\n",
      "5 <class 'int'>\n"
     ]
    }
   ],
   "source": [
    "print (\"Tuplas anidadas\")\n",
    "tupla = (1,2,3, (4,5,6))\n",
    "print (tupla, type(tupla))\n",
    "anidado = tupla[3]\n",
    "print (anidado, type(anidado))\n",
    "valor_anidado_0 = anidado[0]\n",
    "print (valor_anidado_0, type(valor_anidado_0))\n",
    "valor_anidado_1 = tupla[3][1]\n",
    "print (valor_anidado_1, type(valor_anidado_1))"
   ]
  },
  {
   "cell_type": "markdown",
   "id": "33840e16",
   "metadata": {},
   "source": [
    "### Ejercicios prácticos en clase"
   ]
  },
  {
   "cell_type": "code",
   "execution_count": 20,
   "id": "e5278f43",
   "metadata": {},
   "outputs": [
    {
     "name": "stdout",
     "output_type": "stream",
     "text": [
      "2\n",
      "4\n",
      "6\n"
     ]
    }
   ],
   "source": [
    "matrix = ((0,1,2),(3,4,5),(6,7,8))\n",
    "print(matrix[0][2])\n",
    "print(matrix[1][1])\n",
    "print(matrix[2][0])"
   ]
  },
  {
   "cell_type": "code",
   "execution_count": 21,
   "id": "9a6ee74e",
   "metadata": {},
   "outputs": [
    {
     "name": "stdout",
     "output_type": "stream",
     "text": [
      "2,4,6\n"
     ]
    }
   ],
   "source": [
    "print(f\"{matrix[0][2]},{matrix[1][1]},{matrix[2][0]}\")"
   ]
  },
  {
   "cell_type": "code",
   "execution_count": 22,
   "id": "e227339a",
   "metadata": {},
   "outputs": [
    {
     "name": "stdout",
     "output_type": "stream",
     "text": [
      "Estoy aprendiendo a programar\n"
     ]
    }
   ],
   "source": [
    "# Acceder a los valores necesarios para formar la frase:\n",
    "# \"Estoy aprendiendo a programar\"\n",
    "cadenas = ((\"a\",\"es\",\"el\",\"programar\"),(\"estoy\",\"apre\",\"ar\"),(\"ndiendo\",\"a\"))\n",
    "cadena_1 = cadenas[1][0]\n",
    "cadena_2 = cadenas[1][1]\n",
    "cadena_3 = cadenas[2][0]\n",
    "cadena_4 = cadenas[0][0]\n",
    "cadena_5 = cadenas[0][3]\n",
    "cadena_0 = cadena_1.title()\n",
    "print(cadena_0 + \" \"+ cadena_2 + cadena_3 + \" \"+ cadena_4 +\" \"+ cadena_5)"
   ]
  },
  {
   "cell_type": "code",
   "execution_count": 23,
   "id": "a246b1d2",
   "metadata": {},
   "outputs": [
    {
     "name": "stdout",
     "output_type": "stream",
     "text": [
      "Estoy aprendiendo a programar\n"
     ]
    }
   ],
   "source": [
    "cadenas = ((\"a\", \"es\", \"el\", \"programar\"),\n",
    "            (\"estoy\", \"apre\", \"ar\"),\n",
    "            (\"ndiendo\", \"a\"))\n",
    "print(f\"{cadenas[1][0].capitalize()} \\\n",
    "{cadenas[1][1]+cadenas[2][0]} \\\n",
    "{cadenas[0][0]} {cadenas[0][3]}\")"
   ]
  }
 ],
 "metadata": {
  "kernelspec": {
   "display_name": "Python 3",
   "language": "python",
   "name": "python3"
  },
  "language_info": {
   "codemirror_mode": {
    "name": "ipython",
    "version": 3
   },
   "file_extension": ".py",
   "mimetype": "text/x-python",
   "name": "python",
   "nbconvert_exporter": "python",
   "pygments_lexer": "ipython3",
   "version": "3.13.3"
  }
 },
 "nbformat": 4,
 "nbformat_minor": 5
}
