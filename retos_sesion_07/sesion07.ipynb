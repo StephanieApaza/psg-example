{
 "cells": [
  {
   "cell_type": "markdown",
   "id": "244f803a",
   "metadata": {},
   "source": [
    "# Tipos de datos: Cadenas"
   ]
  },
  {
   "cell_type": "code",
   "execution_count": 1,
   "id": "81c4f964",
   "metadata": {},
   "outputs": [
    {
     "name": "stdout",
     "output_type": "stream",
     "text": [
      "Mi cadena permite comillas \"dobles\" en una sola línea\n",
      "Mi cadena permite comillas 'simples' en una sola línea\n",
      "Mi cadena \n",
      "permite contenido \n",
      "en varias líneas y comillas \"dobles\" \n",
      "Mi cadena\n",
      "permite contenido \n",
      "en varias líneas y comillas 'simples' \n"
     ]
    }
   ],
   "source": [
    "simple = 'Mi cadena permite comillas \"dobles\" en una sola línea'\n",
    "doble  = \"Mi cadena permite comillas 'simples' en una sola línea\"\n",
    "triple_simple = '''Mi cadena \n",
    "permite contenido \n",
    "en varias líneas y comillas \"dobles\" '''\n",
    "triple_doble = \"\"\"Mi cadena\n",
    "permite contenido \n",
    "en varias líneas y comillas 'simples' \"\"\"\n",
    "print (simple)\n",
    "print (doble)\n",
    "print (triple_simple)\n",
    "print (triple_doble)"
   ]
  },
  {
   "cell_type": "markdown",
   "id": "d1e0e6e7",
   "metadata": {},
   "source": [
    "### Método str"
   ]
  },
  {
   "cell_type": "code",
   "execution_count": 1,
   "id": "8611d6f4",
   "metadata": {},
   "outputs": [
    {
     "name": "stdout",
     "output_type": "stream",
     "text": [
      "1\n",
      "0.001\n",
      "10\n",
      "True\n",
      "<class 'str'>\n",
      "<class 'str'>\n",
      "<class 'str'>\n",
      "<class 'str'>\n"
     ]
    }
   ],
   "source": [
    "entero = str(1)\n",
    "flotante = str(1E-3)\n",
    "hexadecimal = str(0xA)\n",
    "booleano = str (True)\n",
    "print (entero)\n",
    "print (flotante)\n",
    "print (hexadecimal)\n",
    "print (booleano)\n",
    "print (type(entero))\n",
    "print (type(flotante))\n",
    "print (type(hexadecimal))\n",
    "print (type(booleano))"
   ]
  },
  {
   "cell_type": "markdown",
   "id": "e51dfe48",
   "metadata": {},
   "source": [
    "### Escape de carácteres"
   ]
  },
  {
   "cell_type": "code",
   "execution_count": 5,
   "id": "cb60bc9e",
   "metadata": {},
   "outputs": [
    {
     "name": "stdout",
     "output_type": "stream",
     "text": [
      "El mensaje enviado fue: \"Hello, I'm a message\"\n",
      "El mensaje enviado fue: \"Hello, I'm a message\"\n"
     ]
    }
   ],
   "source": [
    "print (\"El mensaje enviado fue: \\\"Hello, I\\'m a message\\\"\")\n",
    "print ('El mensaje enviado fue: \\\"Hello, I\\'m a message\\\"')"
   ]
  },
  {
   "cell_type": "code",
   "execution_count": 6,
   "id": "8c661a12",
   "metadata": {},
   "outputs": [
    {
     "name": "stdout",
     "output_type": "stream",
     "text": [
      "Hola,\n",
      "\teste es un mensaje \u000bcon algunos caracteres especiales como \\ y tabulador.\n"
     ]
    }
   ],
   "source": [
    "mensaje = \"Hola,\\n\\teste es un mensaje \\vcon algunos caracteres \\\n",
    "especiales como \\\\ y tabulador.\"\n",
    "print(mensaje)"
   ]
  },
  {
   "cell_type": "markdown",
   "id": "fc15e11a",
   "metadata": {},
   "source": [
    "### Método input"
   ]
  },
  {
   "cell_type": "code",
   "execution_count": null,
   "id": "3db072c5",
   "metadata": {},
   "outputs": [],
   "source": [
    "entrada = input(\"Ingrese un valor: \")\n",
    "print (entrada)\n",
    "print (type(entrada))"
   ]
  },
  {
   "cell_type": "code",
   "execution_count": 2,
   "id": "c0ae2657",
   "metadata": {},
   "outputs": [
    {
     "name": "stdout",
     "output_type": "stream",
     "text": [
      "5 <class 'int'>\n"
     ]
    }
   ],
   "source": [
    "entero = int(input(\"Ingrese un valor entero: \"))\n",
    "print(entero, type(entero))"
   ]
  },
  {
   "cell_type": "code",
   "execution_count": 8,
   "id": "0c4dafa3",
   "metadata": {},
   "outputs": [
    {
     "name": "stdout",
     "output_type": "stream",
     "text": [
      "34.5 <class 'float'>\n"
     ]
    }
   ],
   "source": [
    "flotante = float(input(\"Ingrese un valor flotante: \"))\n",
    "print(flotante, type(flotante))"
   ]
  },
  {
   "cell_type": "code",
   "execution_count": 9,
   "id": "73d8630e",
   "metadata": {},
   "outputs": [
    {
     "name": "stdout",
     "output_type": "stream",
     "text": [
      "True <class 'bool'>\n"
     ]
    }
   ],
   "source": [
    "booleano = bool(input(\"Ingrese un valor booleano: \"))\n",
    "print(booleano, type(booleano))"
   ]
  },
  {
   "cell_type": "markdown",
   "id": "17929424",
   "metadata": {},
   "source": [
    "### Manejo de índices"
   ]
  },
  {
   "cell_type": "code",
   "execution_count": 11,
   "id": "043c099e",
   "metadata": {},
   "outputs": [
    {
     "name": "stdout",
     "output_type": "stream",
     "text": [
      "Indexado positivo\n",
      "banana\n",
      "b\n",
      "a\n"
     ]
    }
   ],
   "source": [
    "print(\"Indexado positivo\")\n",
    "fruta = \"banana\"\n",
    "print(fruta)\n",
    "print(fruta[0])\n",
    "print(fruta[5])"
   ]
  },
  {
   "cell_type": "code",
   "execution_count": 12,
   "id": "99d46afc",
   "metadata": {},
   "outputs": [
    {
     "name": "stdout",
     "output_type": "stream",
     "text": [
      "Indexado negativo\n",
      "banana\n",
      "b\n",
      "n\n"
     ]
    }
   ],
   "source": [
    "print(\"Indexado negativo\")\n",
    "fruta = \"banana\"\n",
    "print(fruta)\n",
    "print(fruta[-6])\n",
    "print(fruta[-2])"
   ]
  },
  {
   "cell_type": "markdown",
   "id": "79681abd",
   "metadata": {},
   "source": [
    "### Segmentación o slicing"
   ]
  },
  {
   "cell_type": "code",
   "execution_count": 3,
   "id": "6ce94109",
   "metadata": {},
   "outputs": [
    {
     "name": "stdout",
     "output_type": "stream",
     "text": [
      "Slicing\n",
      "LaPaz-Bolivia\n"
     ]
    }
   ],
   "source": [
    "print (\"Slicing\")\n",
    "ciudad =  \"LaPaz-Bolivia\"\n",
    "print (ciudad)"
   ]
  },
  {
   "cell_type": "code",
   "execution_count": 13,
   "id": "93b0d2f6",
   "metadata": {},
   "outputs": [
    {
     "name": "stdout",
     "output_type": "stream",
     "text": [
      "Slicing con índices positivos\n",
      "LaPaz-Bolivia\n",
      "LaPaz-\n",
      "LPz\n"
     ]
    }
   ],
   "source": [
    "print (\"Slicing con índices positivos\")\n",
    "ciudad =  \"LaPaz-Bolivia\"\n",
    "print (ciudad)\n",
    "print (ciudad[0:6])\n",
    "print (ciudad[0:6:2])"
   ]
  },
  {
   "cell_type": "code",
   "execution_count": 14,
   "id": "60204bb1",
   "metadata": {},
   "outputs": [
    {
     "name": "stdout",
     "output_type": "stream",
     "text": [
      "Slicing con índices negativos\n",
      "LaPaz-Bolivia\n",
      "az-Boliv\n",
      "a-oi\n"
     ]
    }
   ],
   "source": [
    "print (\"Slicing con índices negativos\")\n",
    "ciudad =  \"LaPaz-Bolivia\"\n",
    "print (ciudad)\n",
    "print (ciudad[-10:-2])\n",
    "print (ciudad[-10:-2:2])\n"
   ]
  },
  {
   "cell_type": "code",
   "execution_count": 15,
   "id": "d15fa820",
   "metadata": {},
   "outputs": [
    {
     "name": "stdout",
     "output_type": "stream",
     "text": [
      "Slicing sin índice inicial y final\n",
      "LaPaz-\n",
      "Bolivia\n",
      "Slicing sin índice inicial ni final\n",
      "LaPaz-Bolivia\n",
      "LPzBlva\n"
     ]
    }
   ],
   "source": [
    "print (\"Slicing sin índice inicial y final\")\n",
    "print (ciudad[:6])\n",
    "print (ciudad[6:])\n",
    "print (\"Slicing sin índice inicial ni final\")\n",
    "print (ciudad[:])\n",
    "print (ciudad[::2])"
   ]
  },
  {
   "cell_type": "code",
   "execution_count": 16,
   "id": "8d108ed2",
   "metadata": {},
   "outputs": [
    {
     "name": "stdout",
     "output_type": "stream",
     "text": [
      "Slicing con paso negativo\n",
      "viloB-\n",
      "vlBzPL\n",
      "aivil\n",
      "vlBzPL\n"
     ]
    }
   ],
   "source": [
    "print (\"Slicing con paso negativo\")\n",
    "print (ciudad[10:4:-1])\n",
    "print (ciudad[10::-2])\n",
    "print (ciudad[-1:-6:-1])\n",
    "print (ciudad[10::-2])"
   ]
  },
  {
   "cell_type": "markdown",
   "id": "470d9ae3",
   "metadata": {},
   "source": [
    "### Concatenación de cadenas"
   ]
  },
  {
   "cell_type": "code",
   "execution_count": 17,
   "id": "eb160943",
   "metadata": {},
   "outputs": [
    {
     "name": "stdout",
     "output_type": "stream",
     "text": [
      "Hola mundo\n"
     ]
    }
   ],
   "source": [
    "cadena_1 = \"Hola\"\n",
    "cadena_2 = \"mundo\"\n",
    "print(cadena_1 + \" \" + cadena_2)"
   ]
  },
  {
   "cell_type": "markdown",
   "id": "1a03ae89",
   "metadata": {},
   "source": [
    "### Repetición de una cadena"
   ]
  },
  {
   "cell_type": "code",
   "execution_count": 4,
   "id": "8034607f",
   "metadata": {},
   "outputs": [
    {
     "name": "stdout",
     "output_type": "stream",
     "text": [
      "-#--#--#--#--#--#--#--#--#--#-\n"
     ]
    }
   ],
   "source": [
    "cadena = \"-#-\"\n",
    "repetida = cadena * 10\n",
    "print (repetida)"
   ]
  },
  {
   "cell_type": "markdown",
   "id": "d5318306",
   "metadata": {},
   "source": [
    "### Longitud de una cadena"
   ]
  },
  {
   "cell_type": "code",
   "execution_count": 18,
   "id": "57f7b356",
   "metadata": {},
   "outputs": [
    {
     "name": "stdout",
     "output_type": "stream",
     "text": [
      "Hola Mundo :D\n",
      "13 <class 'int'>\n"
     ]
    }
   ],
   "source": [
    "cadena = \"Hola Mundo :D\"\n",
    "longitud = len(cadena)\n",
    "print (cadena)\n",
    "print (longitud, type(longitud))"
   ]
  },
  {
   "cell_type": "markdown",
   "id": "2d912e4d",
   "metadata": {},
   "source": [
    "## Métodos de cadenas"
   ]
  },
  {
   "cell_type": "markdown",
   "id": "5a824170",
   "metadata": {},
   "source": [
    "### Función Upper"
   ]
  },
  {
   "cell_type": "code",
   "execution_count": 19,
   "id": "0771cf57",
   "metadata": {},
   "outputs": [
    {
     "name": "stdout",
     "output_type": "stream",
     "text": [
      "cadena Inicial #1\n",
      "CADENA INICIAL #1\n"
     ]
    }
   ],
   "source": [
    "cadena = \"cadena Inicial #1\"\n",
    "mayuscula  = cadena.upper()\n",
    "print (cadena)\n",
    "print (mayuscula)"
   ]
  },
  {
   "cell_type": "markdown",
   "id": "32c6b3fb",
   "metadata": {},
   "source": [
    "### Función Lower"
   ]
  },
  {
   "cell_type": "code",
   "execution_count": 20,
   "id": "0e4cfdd0",
   "metadata": {},
   "outputs": [
    {
     "name": "stdout",
     "output_type": "stream",
     "text": [
      "Cadena INICIAL #2\n",
      "cadena inicial #2\n"
     ]
    }
   ],
   "source": [
    "cadena = \"Cadena INICIAL #2\"\n",
    "minuscula = cadena.lower()\n",
    "print(cadena)\n",
    "print(minuscula)"
   ]
  },
  {
   "cell_type": "markdown",
   "id": "6d0cd610",
   "metadata": {},
   "source": [
    "### Función Capitalize"
   ]
  },
  {
   "cell_type": "code",
   "execution_count": 21,
   "id": "aacc675c",
   "metadata": {},
   "outputs": [
    {
     "name": "stdout",
     "output_type": "stream",
     "text": [
      "cadena INICIAL #3\n",
      "Cadena inicial #3\n"
     ]
    }
   ],
   "source": [
    "cadena = \"cadena INICIAL #3\"\n",
    "capital = cadena.capitalize()\n",
    "print (cadena)\n",
    "print (capital)"
   ]
  },
  {
   "cell_type": "markdown",
   "id": "47d452e1",
   "metadata": {},
   "source": [
    "### Función Title"
   ]
  },
  {
   "cell_type": "code",
   "execution_count": 22,
   "id": "6cb3448c",
   "metadata": {},
   "outputs": [
    {
     "name": "stdout",
     "output_type": "stream",
     "text": [
      "CADENA inicial #4\n",
      "Cadena Inicial #4\n"
     ]
    }
   ],
   "source": [
    "cadena = \"CADENA inicial #4\"\n",
    "titulo = cadena.title()\n",
    "print (cadena)\n",
    "print (titulo)"
   ]
  },
  {
   "cell_type": "markdown",
   "id": "cd344e3d",
   "metadata": {},
   "source": [
    "### Función Swapcase"
   ]
  },
  {
   "cell_type": "code",
   "execution_count": 23,
   "id": "3465719e",
   "metadata": {},
   "outputs": [
    {
     "name": "stdout",
     "output_type": "stream",
     "text": [
      "CADena InIcIaL #5\n",
      "cadENA iNiCiAl #5\n"
     ]
    }
   ],
   "source": [
    "cadena = \"CADena InIcIaL #5\"\n",
    "swap = cadena.swapcase()\n",
    "print (cadena)\n",
    "print (swap)"
   ]
  },
  {
   "cell_type": "markdown",
   "id": "d84f978e",
   "metadata": {},
   "source": [
    "### Función Count"
   ]
  },
  {
   "cell_type": "code",
   "execution_count": 24,
   "id": "81884c9a",
   "metadata": {},
   "outputs": [
    {
     "name": "stdout",
     "output_type": "stream",
     "text": [
      "Cantidad de veces la letra A\n",
      "4 <class 'int'>\n"
     ]
    }
   ],
   "source": [
    "cadena = \"Cantidad de veces la letra A\"\n",
    "contar = cadena.count(\"a\")\n",
    "print(cadena)\n",
    "print(contar, type(contar))"
   ]
  },
  {
   "cell_type": "markdown",
   "id": "47b9ecfb",
   "metadata": {},
   "source": [
    "### Función Find"
   ]
  },
  {
   "cell_type": "code",
   "execution_count": 25,
   "id": "29d3a694",
   "metadata": {},
   "outputs": [
    {
     "name": "stdout",
     "output_type": "stream",
     "text": [
      "Encontrar las letras las\n",
      "10 <class 'int'>\n"
     ]
    }
   ],
   "source": [
    "cadena = \"Encontrar las letras las\"\n",
    "buscar = cadena.find(\"las\")\n",
    "print(cadena)\n",
    "print(buscar, type(buscar))"
   ]
  },
  {
   "cell_type": "markdown",
   "id": "85760043",
   "metadata": {},
   "source": [
    "### Función Rfind"
   ]
  },
  {
   "cell_type": "code",
   "execution_count": 26,
   "id": "9f0dc3fa",
   "metadata": {},
   "outputs": [
    {
     "name": "stdout",
     "output_type": "stream",
     "text": [
      "Encontrar las letras las\n",
      "21 <class 'int'>\n"
     ]
    }
   ],
   "source": [
    "cadena = \"Encontrar las letras las\"\n",
    "buscar = cadena.rfind(\"las\")\n",
    "print(cadena)\n",
    "print(buscar, type(buscar))"
   ]
  },
  {
   "cell_type": "markdown",
   "id": "d2ab905a",
   "metadata": {},
   "source": [
    "### Función Find y Rfind"
   ]
  },
  {
   "cell_type": "code",
   "execution_count": 27,
   "id": "6a1dd7f7",
   "metadata": {},
   "outputs": [
    {
     "name": "stdout",
     "output_type": "stream",
     "text": [
      "Encontrar tres O\n",
      "-1 <class 'int'>\n",
      "-1 <class 'int'>\n"
     ]
    }
   ],
   "source": [
    "cadena = \"Encontrar tres O\"\n",
    "buscar = cadena.find(\"OOO\")\n",
    "print(cadena)\n",
    "print(buscar, type(buscar))\n",
    "buscar = cadena.rfind(\"OOO\")\n",
    "print(buscar, type(buscar))"
   ]
  },
  {
   "cell_type": "markdown",
   "id": "b8ce4b0d",
   "metadata": {},
   "source": [
    "### Función isdigit"
   ]
  },
  {
   "cell_type": "code",
   "execution_count": 28,
   "id": "9431910f",
   "metadata": {},
   "outputs": [
    {
     "name": "stdout",
     "output_type": "stream",
     "text": [
      "True <class 'bool'>\n"
     ]
    }
   ],
   "source": [
    "resultado = \"100\".isdigit()\n",
    "print (resultado, type(resultado))"
   ]
  },
  {
   "cell_type": "markdown",
   "id": "3a1189d0",
   "metadata": {},
   "source": [
    "### Función isalpha"
   ]
  },
  {
   "cell_type": "code",
   "execution_count": 29,
   "id": "db6d72ae",
   "metadata": {},
   "outputs": [
    {
     "name": "stdout",
     "output_type": "stream",
     "text": [
      "True <class 'bool'>\n"
     ]
    }
   ],
   "source": [
    "resultado = \"Hola\".isalpha()\n",
    "print (resultado, type(resultado))"
   ]
  },
  {
   "cell_type": "markdown",
   "id": "310446ec",
   "metadata": {},
   "source": [
    "### Función isalnum"
   ]
  },
  {
   "cell_type": "code",
   "execution_count": 30,
   "id": "3446f73f",
   "metadata": {},
   "outputs": [
    {
     "name": "stdout",
     "output_type": "stream",
     "text": [
      "True <class 'bool'>\n"
     ]
    }
   ],
   "source": [
    "resultado = \"usuario123\".isalnum()\n",
    "print (resultado, type(resultado))"
   ]
  },
  {
   "cell_type": "markdown",
   "id": "03ffcbda",
   "metadata": {},
   "source": [
    "### Función Split"
   ]
  },
  {
   "cell_type": "code",
   "execution_count": 31,
   "id": "b0a65177",
   "metadata": {},
   "outputs": [
    {
     "name": "stdout",
     "output_type": "stream",
     "text": [
      "pan,carne,huevos\n",
      "['pan', 'carne', 'huevos'] <class 'list'>\n"
     ]
    }
   ],
   "source": [
    "cadena = \"pan,carne,huevos\"\n",
    "separado = cadena.split(\",\")\n",
    "print (cadena)\n",
    "print (separado, type(separado))"
   ]
  },
  {
   "cell_type": "markdown",
   "id": "16915a2e",
   "metadata": {},
   "source": [
    "### Función Join"
   ]
  },
  {
   "cell_type": "code",
   "execution_count": 32,
   "id": "11539a11",
   "metadata": {},
   "outputs": [
    {
     "name": "stdout",
     "output_type": "stream",
     "text": [
      "abcdefghij\n",
      "a-b-c-d-e-f-g-h-i-j\n"
     ]
    }
   ],
   "source": [
    "cadena = \"abcdefghij\"\n",
    "unido = \"-\".join(cadena)\n",
    "print (cadena)\n",
    "print (unido)"
   ]
  },
  {
   "cell_type": "markdown",
   "id": "10d5a4b6",
   "metadata": {},
   "source": [
    "### Función Strip"
   ]
  },
  {
   "cell_type": "code",
   "execution_count": 33,
   "id": "22c9eeca",
   "metadata": {},
   "outputs": [
    {
     "name": "stdout",
     "output_type": "stream",
     "text": [
      "      Hola    Mundo     \n",
      "Hola    Mundo\n",
      "-abc--def-ghi-cba----\n",
      "def-ghi\n"
     ]
    }
   ],
   "source": [
    "cadena = \"      Hola    Mundo     \"\n",
    "limpio = cadena.strip()\n",
    "print (cadena)\n",
    "print (limpio)\n",
    "cadena = \"-abc--def-ghi-cba----\"\n",
    "limpio = cadena.strip(\"bac-\")\n",
    "print (cadena)\n",
    "print (limpio)"
   ]
  },
  {
   "cell_type": "markdown",
   "id": "abf2839a",
   "metadata": {},
   "source": [
    "### Función replace"
   ]
  },
  {
   "cell_type": "code",
   "execution_count": 34,
   "id": "e9337b60",
   "metadata": {},
   "outputs": [
    {
     "name": "stdout",
     "output_type": "stream",
     "text": [
      "Me gusta programar en JS, Amo JS\n",
      "Me gusta programar en Python, Amo Python\n"
     ]
    }
   ],
   "source": [
    "cadena = \"Me gusta programar en JS, Amo JS\"\n",
    "reemplazado = cadena.replace(\"JS\", \"Python\")\n",
    "print (cadena)\n",
    "print (reemplazado)"
   ]
  },
  {
   "cell_type": "markdown",
   "id": "656ea3fa",
   "metadata": {},
   "source": [
    "### Función format"
   ]
  },
  {
   "cell_type": "code",
   "execution_count": 35,
   "id": "8fadcb58",
   "metadata": {},
   "outputs": [
    {
     "name": "stdout",
     "output_type": "stream",
     "text": [
      "El valor de PI es: {}\n",
      "El valor de PI es: 3.1416\n"
     ]
    }
   ],
   "source": [
    "cadena = \"El valor de PI es: {}\"\n",
    "formateado = cadena.format(3.1416)\n",
    "print(cadena)\n",
    "print(formateado)"
   ]
  },
  {
   "cell_type": "markdown",
   "id": "30652c9d",
   "metadata": {},
   "source": [
    "### Función format con índices para mostrar el contenido"
   ]
  },
  {
   "cell_type": "code",
   "execution_count": 36,
   "id": "1403c3a4",
   "metadata": {},
   "outputs": [
    {
     "name": "stdout",
     "output_type": "stream",
     "text": [
      "{2} es la suma de {0} y {1}\n",
      "8 es la suma de 5 y 3\n"
     ]
    }
   ],
   "source": [
    "cadena = \"{2} es la suma de {0} y {1}\"\n",
    "valor_1 = 5\n",
    "valor_2 = 3\n",
    "resultado = valor_1+valor_2\n",
    "formateado = cadena.format(valor_1, valor_2, resultado)\n",
    "print (cadena)\n",
    "print (formateado)"
   ]
  },
  {
   "cell_type": "markdown",
   "id": "17ab54af",
   "metadata": {},
   "source": [
    "### Función format con nombres de variables"
   ]
  },
  {
   "cell_type": "code",
   "execution_count": 37,
   "id": "6f7a5146",
   "metadata": {},
   "outputs": [
    {
     "name": "stdout",
     "output_type": "stream",
     "text": [
      "{ciudad} es la capital de {pais}\n",
      "París es la capital de Francia\n"
     ]
    }
   ],
   "source": [
    "cadena = \"{ciudad} es la capital de {pais}\"\n",
    "pais = \"Francia\"\n",
    "ciudad = \"París\"\n",
    "formateado = cadena.format(pais=pais, ciudad=ciudad)\n",
    "print (cadena)\n",
    "print (formateado)"
   ]
  },
  {
   "cell_type": "markdown",
   "id": "cbc63f11",
   "metadata": {},
   "source": [
    "### Función format con f-string"
   ]
  },
  {
   "cell_type": "code",
   "execution_count": 38,
   "id": "f92dc3cf",
   "metadata": {},
   "outputs": [
    {
     "name": "stdout",
     "output_type": "stream",
     "text": [
      "La moneda de Bolivia es el Boliviano\n"
     ]
    }
   ],
   "source": [
    "moneda = \"Boliviano\"\n",
    "pais = \"Bolivia\"\n",
    "formateado = f\"La moneda de {pais} es el {moneda}\"\n",
    "print (formateado)"
   ]
  }
 ],
 "metadata": {
  "kernelspec": {
   "display_name": "Python 3",
   "language": "python",
   "name": "python3"
  },
  "language_info": {
   "codemirror_mode": {
    "name": "ipython",
    "version": 3
   },
   "file_extension": ".py",
   "mimetype": "text/x-python",
   "name": "python",
   "nbconvert_exporter": "python",
   "pygments_lexer": "ipython3",
   "version": "3.13.3"
  }
 },
 "nbformat": 4,
 "nbformat_minor": 5
}
