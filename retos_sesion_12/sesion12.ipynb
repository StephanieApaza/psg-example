{
 "cells": [
  {
   "cell_type": "markdown",
   "id": "6876e165",
   "metadata": {},
   "source": [
    "# Estructura de control de flujo - Sentencias condicionales"
   ]
  },
  {
   "cell_type": "markdown",
   "id": "ded61c00",
   "metadata": {},
   "source": [
    "#### Estructura de control - Secuencial o lineal"
   ]
  },
  {
   "cell_type": "code",
   "execution_count": 1,
   "id": "567a7750",
   "metadata": {},
   "outputs": [],
   "source": [
    "primero = 1\n",
    "segundo = 2\n",
    "tercero = 3"
   ]
  },
  {
   "cell_type": "markdown",
   "id": "2ec692ed",
   "metadata": {},
   "source": [
    "#### Estructura de control - Selección o condicionales"
   ]
  },
  {
   "cell_type": "markdown",
   "id": "6642316c",
   "metadata": {},
   "source": [
    "## Sentencia IF"
   ]
  },
  {
   "cell_type": "markdown",
   "id": "a157e4d7",
   "metadata": {},
   "source": [
    "### Estructura"
   ]
  },
  {
   "cell_type": "code",
   "execution_count": 3,
   "id": "c8135251",
   "metadata": {},
   "outputs": [],
   "source": [
    "# if condicion:\n",
    "    # print (\"Cumple\")"
   ]
  },
  {
   "cell_type": "code",
   "execution_count": null,
   "id": "32123de4",
   "metadata": {},
   "outputs": [
    {
     "name": "stdout",
     "output_type": "stream",
     "text": [
      "Inicio\n",
      "Cumple condición\n",
      "Fin\n"
     ]
    }
   ],
   "source": [
    "print (\"Inicio\")\n",
    "condicion = True\n",
    "if condicion:\n",
    "    # Bloque de código\n",
    "    print (\"Cumple condición\")\n",
    "print (\"Fin\")"
   ]
  },
  {
   "cell_type": "code",
   "execution_count": 4,
   "id": "502d9e5c",
   "metadata": {},
   "outputs": [
    {
     "name": "stdout",
     "output_type": "stream",
     "text": [
      "Inicio\n",
      "El número es par\n",
      "Fin\n"
     ]
    }
   ],
   "source": [
    "# Dado un número, imprimir si es par\n",
    "print (\"Inicio\")\n",
    "numero = 4\n",
    "if numero % 2 == 0: # Si el módulo de 2 es 0\n",
    "    print (\"El número es par\")\n",
    "print (\"Fin\")"
   ]
  },
  {
   "cell_type": "markdown",
   "id": "1d6e6df1",
   "metadata": {},
   "source": [
    "## Sentencia IF-ELSE"
   ]
  },
  {
   "cell_type": "markdown",
   "id": "ae60f577",
   "metadata": {},
   "source": [
    "### Estructura"
   ]
  },
  {
   "cell_type": "code",
   "execution_count": 6,
   "id": "f4040b46",
   "metadata": {},
   "outputs": [],
   "source": [
    "# if condicion:\n",
    "    # print (\"Cumple\")\n",
    "# else:\n",
    "    # print (\"No cumple\")"
   ]
  },
  {
   "cell_type": "code",
   "execution_count": 5,
   "id": "4f0d4b5d",
   "metadata": {},
   "outputs": [
    {
     "name": "stdout",
     "output_type": "stream",
     "text": [
      "Inicio\n",
      "No cumple condición\n",
      "Fin\n"
     ]
    }
   ],
   "source": [
    "print (\"Inicio\")\n",
    "condicion = False\n",
    "if condicion:\n",
    "    # Bloque de código\n",
    "    print (\"Cumple condición\")\n",
    "else:\n",
    "    # Bloque de código\n",
    "    print (\"No cumple condición\")\n",
    "print (\"Fin\")"
   ]
  },
  {
   "cell_type": "code",
   "execution_count": 7,
   "id": "c51b082a",
   "metadata": {},
   "outputs": [
    {
     "name": "stdout",
     "output_type": "stream",
     "text": [
      "Inicio\n",
      "El número es impar\n",
      "Fin\n"
     ]
    }
   ],
   "source": [
    "# Dado un número, imprimir si es par o impar\n",
    "print (\"Inicio\")\n",
    "numero = 3\n",
    "if numero % 2 == 0: # Si el módulo de 2 es 0\n",
    "    print (\"El número es par\")\n",
    "else:\n",
    "    print (\"El número es impar\")\n",
    "print (\"Fin\")"
   ]
  },
  {
   "cell_type": "markdown",
   "id": "36043e3b",
   "metadata": {},
   "source": [
    "## Sentencia IF-ANIDADO"
   ]
  },
  {
   "cell_type": "markdown",
   "id": "34089b9f",
   "metadata": {},
   "source": [
    "### Estructura"
   ]
  },
  {
   "cell_type": "code",
   "execution_count": 8,
   "id": "24c8d3c3",
   "metadata": {},
   "outputs": [],
   "source": [
    "#if condicion_1:\n",
    "    #print (\"Cumple 1\")\n",
    "    #if condicion_2:\n",
    "        #print (\"Cumple 2\")\n",
    "    #else:\n",
    "        #print (\"No cumple 2\")\n",
    "#else:\n",
    "    #print (\"No cumple 1\")"
   ]
  },
  {
   "cell_type": "code",
   "execution_count": 7,
   "id": "47f218d3",
   "metadata": {},
   "outputs": [
    {
     "name": "stdout",
     "output_type": "stream",
     "text": [
      "Inicio Anidado\n",
      "Cumple condición 1\n",
      "No cumple condición 2\n",
      "Fin\n"
     ]
    }
   ],
   "source": [
    "print (\"Inicio Anidado\")\n",
    "condicion_1 = True\n",
    "condicion_2 = False\n",
    "if condicion_1:\n",
    "    print (\"Cumple condición 1\")\n",
    "    if condicion_2:\n",
    "        print (\"Cumple condición 2\")\n",
    "    else:\n",
    "        print (\"No cumple condición 2\")\n",
    "else:\n",
    "    print (\"No cumple condición 1\")\n",
    "print (\"Fin\")"
   ]
  },
  {
   "cell_type": "code",
   "execution_count": 9,
   "id": "08b91175",
   "metadata": {},
   "outputs": [
    {
     "name": "stdout",
     "output_type": "stream",
     "text": [
      "Inicio Par, Impar o Cero\n",
      "El número es cero\n",
      "Fin\n"
     ]
    }
   ],
   "source": [
    "# Dado un número, imprimir si es par, impar o cero\n",
    "print (\"Inicio Par, Impar o Cero\")\n",
    "numero = 0  \n",
    "if numero > 0 or numero < 0:\n",
    "    if numero % 2 == 0: # Si el módulo de 2 es 0\n",
    "        print (\"El número es par\")\n",
    "    else:\n",
    "        print (\"El número es impar\")\n",
    "else:\n",
    "    print (\"El número es cero\")\n",
    "print (\"Fin\")"
   ]
  },
  {
   "cell_type": "code",
   "execution_count": 9,
   "id": "f8215204",
   "metadata": {},
   "outputs": [
    {
     "name": "stdout",
     "output_type": "stream",
     "text": [
      "Inicio Par, Impar o Cero\n",
      "El número es impar\n",
      "Fin\n"
     ]
    }
   ],
   "source": [
    "print (\"Inicio Par, Impar o Cero\")\n",
    "numero = 5  \n",
    "if numero != 0:\n",
    "    if numero % 2 == 0: # Si el módulo de 2 es 0\n",
    "        print (\"El número es par\")\n",
    "    else:\n",
    "        print (\"El número es impar\")\n",
    "else:\n",
    "    print (\"El número es cero\")\n",
    "print (\"Fin\")"
   ]
  },
  {
   "cell_type": "markdown",
   "id": "a43a5f57",
   "metadata": {},
   "source": [
    "## Sentencia ELIF"
   ]
  },
  {
   "cell_type": "markdown",
   "id": "4f105c3b",
   "metadata": {},
   "source": [
    "### Estructura"
   ]
  },
  {
   "cell_type": "code",
   "execution_count": 11,
   "id": "a57bc189",
   "metadata": {},
   "outputs": [],
   "source": [
    "#if condicion_1:\n",
    "    #print (\"Cumple 1\")\n",
    "#elif condicion_2:\n",
    "    #print (\"Cumple 2\")\n",
    "#else:\n",
    "    #print (\"No cumple 1 ni 2\")"
   ]
  },
  {
   "cell_type": "code",
   "execution_count": 10,
   "id": "534a1526",
   "metadata": {},
   "outputs": [
    {
     "name": "stdout",
     "output_type": "stream",
     "text": [
      "Inicio ELIF\n",
      "Cumple condición 2\n",
      "Fin\n"
     ]
    }
   ],
   "source": [
    "print (\"Inicio ELIF\")\n",
    "condicion_1 = False\n",
    "condicion_2 = True\n",
    "if condicion_1:\n",
    "    print (\"Cumple condición 1\")\n",
    "elif condicion_2:\n",
    "    print (\"Cumple condición 2\")\n",
    "else:\n",
    "    print (\"No cumple condición 1 ni 2\")\n",
    "print (\"Fin\")"
   ]
  },
  {
   "cell_type": "code",
   "execution_count": 12,
   "id": "afad9a54",
   "metadata": {},
   "outputs": [
    {
     "name": "stdout",
     "output_type": "stream",
     "text": [
      "Inicio Positivo, Negativo o Cero\n",
      "El número es negativo\n"
     ]
    }
   ],
   "source": [
    "# Dado un número, imprimir si es positivo, negativo o cero\n",
    "print (\"Inicio Positivo, Negativo o Cero\")\n",
    "numero = -1\n",
    "if numero > 0:\n",
    "    print (\"El número es positivo\")\n",
    "elif numero < 0:\n",
    "    print (\"El número es negativo\")\n",
    "else:\n",
    "    print (\"El número es cero\")"
   ]
  },
  {
   "cell_type": "markdown",
   "id": "e622b4f3",
   "metadata": {},
   "source": [
    "## Operador ternario"
   ]
  },
  {
   "cell_type": "code",
   "execution_count": 13,
   "id": "ae1f99d2",
   "metadata": {},
   "outputs": [],
   "source": [
    "# resultado = verdadero if condicion else falso"
   ]
  },
  {
   "cell_type": "code",
   "execution_count": 12,
   "id": "c3890e6d",
   "metadata": {},
   "outputs": [
    {
     "name": "stdout",
     "output_type": "stream",
     "text": [
      "Inicio Ternario\n",
      "Cumple\n",
      "Fin\n"
     ]
    }
   ],
   "source": [
    "print (\"Inicio Ternario\")\n",
    "condicion = True\n",
    "resultado = \"Cumple\" if condicion else \"No cumple\"\n",
    "print (resultado)\n",
    "print (\"Fin\")"
   ]
  },
  {
   "cell_type": "code",
   "execution_count": 14,
   "id": "9d7a2a47",
   "metadata": {},
   "outputs": [
    {
     "name": "stdout",
     "output_type": "stream",
     "text": [
      "Inicio Ternario Par, Impar\n",
      "El número es impar\n",
      "Fin\n"
     ]
    }
   ],
   "source": [
    "# Dado un número, imprimir si es par o impar\n",
    "print (\"Inicio Ternario Par, Impar\")\n",
    "numero = 3\n",
    "resultado = \"El número es par\" if numero % 2 == 0 else \"El número es impar\"\n",
    "print (resultado)\n",
    "print (\"Fin\")"
   ]
  },
  {
   "cell_type": "markdown",
   "id": "3e740e9f",
   "metadata": {},
   "source": [
    "## Truthiness"
   ]
  },
  {
   "cell_type": "markdown",
   "id": "38f9708a",
   "metadata": {},
   "source": [
    "### Truthiness de enteros"
   ]
  },
  {
   "cell_type": "code",
   "execution_count": 14,
   "id": "d812230b",
   "metadata": {},
   "outputs": [
    {
     "name": "stdout",
     "output_type": "stream",
     "text": [
      "Truthiness Enteros\n",
      "10 5\n",
      "2.0\n",
      "Fin\n"
     ]
    }
   ],
   "source": [
    "print (\"Truthiness Enteros\")\n",
    "dividendo = int(input(\"Dividendo: \"))\n",
    "divisor = int(input(\"Divisor: \"))\n",
    "print (dividendo,divisor)\n",
    "if divisor: #divisor != 0\n",
    "    print (dividendo / divisor)\n",
    "else:\n",
    "    print (\"No se puede dividir entre cero\")\n",
    "print (\"Fin\")"
   ]
  },
  {
   "cell_type": "markdown",
   "id": "d23de819",
   "metadata": {},
   "source": [
    "### Truthiness de flotantes"
   ]
  },
  {
   "cell_type": "code",
   "execution_count": 15,
   "id": "210574cf",
   "metadata": {},
   "outputs": [
    {
     "name": "stdout",
     "output_type": "stream",
     "text": [
      "Truthiness Flotantes\n",
      "22.1 2.5\n",
      "8.84\n",
      "Fin\n"
     ]
    }
   ],
   "source": [
    "print (\"Truthiness Flotantes\")\n",
    "dividendo = float(input(\"Dividendo: \"))\n",
    "divisor = float(input(\"Divisor: \"))\n",
    "print (dividendo,divisor)\n",
    "if divisor: #divisor != 0.0\n",
    "    print (dividendo / divisor)\n",
    "else:\n",
    "    print (\"No se puede dividir entre cero\")\n",
    "print (\"Fin\")"
   ]
  },
  {
   "cell_type": "markdown",
   "id": "d355f862",
   "metadata": {},
   "source": [
    "### Truthiness de cadenas"
   ]
  },
  {
   "cell_type": "code",
   "execution_count": 16,
   "id": "a4122abe",
   "metadata": {},
   "outputs": [
    {
     "name": "stdout",
     "output_type": "stream",
     "text": [
      "Truthiness Cadenas\n",
      "sábado\n",
      "La cadena no está vacía\n",
      "Fin\n"
     ]
    }
   ],
   "source": [
    "print (\"Truthiness Cadenas\")\n",
    "cadena = input(\"Cadena: \")\n",
    "print (cadena)\n",
    "if cadena: # len(cadena) != 0 or cadena != \"\" \n",
    "    print (\"La cadena no está vacía\")\n",
    "else:\n",
    "    print (\"La cadena está vacía\")\n",
    "print (\"Fin\")"
   ]
  },
  {
   "cell_type": "markdown",
   "id": "8c916514",
   "metadata": {},
   "source": [
    "### Truthiness de tuplas"
   ]
  },
  {
   "cell_type": "code",
   "execution_count": 18,
   "id": "c69e7445",
   "metadata": {},
   "outputs": [
    {
     "name": "stdout",
     "output_type": "stream",
     "text": [
      "Truthiness Tuplas\n",
      "('3', '4', ' ', '3', ' ', '5', '6')\n",
      "La tupla no está vacía\n",
      "Fin\n"
     ]
    }
   ],
   "source": [
    "print (\"Truthiness Tuplas\")\n",
    "tupla = tuple(input(\"Tupla: \"))\n",
    "print (tupla)\n",
    "if tupla: # len(tupla) != 0 or tupla != ()\n",
    "    print (\"La tupla no está vacía\")\n",
    "else:\n",
    "    print (\"La tupla está vacía\")\n",
    "print (\"Fin\")"
   ]
  },
  {
   "cell_type": "markdown",
   "id": "3f46018c",
   "metadata": {},
   "source": [
    "### Truthiness de listas"
   ]
  },
  {
   "cell_type": "code",
   "execution_count": 19,
   "id": "95cc68a0",
   "metadata": {},
   "outputs": [
    {
     "name": "stdout",
     "output_type": "stream",
     "text": [
      "Truthiness Listas\n",
      "['n', 'a', 'r', 'a', 'n', 'j', 'a', '5', '6']\n",
      "La lista no está vacía\n",
      "Fin\n"
     ]
    }
   ],
   "source": [
    "print (\"Truthiness Listas\")\n",
    "lista = list(input(\"Lista: \"))\n",
    "print (lista)\n",
    "if lista: # len(lista) != 0 or lista != []\n",
    "    print (\"La lista no está vacía\")\n",
    "else:\n",
    "    print (\"La lista está vacía\")\n",
    "print (\"Fin\")"
   ]
  },
  {
   "cell_type": "markdown",
   "id": "5cd02c54",
   "metadata": {},
   "source": [
    "### Truthiness en conjuntos"
   ]
  },
  {
   "cell_type": "code",
   "execution_count": 20,
   "id": "dde34f8b",
   "metadata": {},
   "outputs": [
    {
     "name": "stdout",
     "output_type": "stream",
     "text": [
      "Truthiness Conjuntos\n",
      "{'3', '6', '4', '9', '5', '7'}\n",
      "El conjunto no está vacío\n",
      "Fin\n"
     ]
    }
   ],
   "source": [
    "print (\"Truthiness Conjuntos\")\n",
    "conjunto = set(input(\"Conjunto: \"))\n",
    "print (conjunto)\n",
    "if conjunto: # len(conjunto) != 0 or conjunto != set()\n",
    "    print (\"El conjunto no está vacío\")\n",
    "else:\n",
    "    print (\"El conjunto está vacío\")\n",
    "print (\"Fin\")"
   ]
  },
  {
   "cell_type": "markdown",
   "id": "4f5768f6",
   "metadata": {},
   "source": [
    "### Truthiness en diccionarios"
   ]
  },
  {
   "cell_type": "code",
   "execution_count": 21,
   "id": "0c7201f6",
   "metadata": {},
   "outputs": [
    {
     "name": "stdout",
     "output_type": "stream",
     "text": [
      "Truthiness Diccionarios\n",
      "{'país': 'Bolivia'}\n",
      "El diccionario no está vacío\n",
      "Fin\n"
     ]
    }
   ],
   "source": [
    "print (\"Truthiness Diccionarios\")\n",
    "diccionario = {}\n",
    "clave = input(\"Clave: \")\n",
    "valor = input(\"Valor: \")\n",
    "if clave:\n",
    "    diccionario = {clave:valor}\n",
    "print (diccionario)\n",
    "if diccionario: # diccionario != {}\n",
    "    print (\"El diccionario no está vacío\")\n",
    "else:\n",
    "    print (\"El diccionario está vacío\")\n",
    "print (\"Fin\")"
   ]
  },
  {
   "cell_type": "markdown",
   "id": "1e463a8a",
   "metadata": {},
   "source": [
    "### Truthiness None"
   ]
  },
  {
   "cell_type": "code",
   "execution_count": 22,
   "id": "af645aa1",
   "metadata": {},
   "outputs": [
    {
     "name": "stdout",
     "output_type": "stream",
     "text": [
      "Truthiness None\n",
      "None <class 'NoneType'>\n",
      "El valor es None\n",
      "Fin\n"
     ]
    }
   ],
   "source": [
    "print (\"Truthiness None\")\n",
    "valor = None\n",
    "print (valor, type(valor))\n",
    "if valor: # valor != None\n",
    "    print (\"El valor no es None\")\n",
    "else:\n",
    "    print (\"El valor es None\")\n",
    "print (\"Fin\")"
   ]
  },
  {
   "cell_type": "markdown",
   "id": "d1e79d20",
   "metadata": {},
   "source": [
    "### Operadores ternarios para asignar valores a variables"
   ]
  },
  {
   "cell_type": "code",
   "execution_count": 23,
   "id": "88a74efa",
   "metadata": {},
   "outputs": [
    {
     "name": "stdout",
     "output_type": "stream",
     "text": [
      "Diferente de 0\n",
      "Diferente de 0.0\n",
      "No está vacía\n"
     ]
    }
   ],
   "source": [
    "entero = int(input(\"Entero: \"))\n",
    "resultado = \"Diferente de 0\" if entero else \"Igual a 0\"\n",
    "print (resultado)\n",
    "flotante = float(input(\"Flotante: \"))\n",
    "resultado = \"Diferente de 0.0\" if flotante else \"Igual a 0.0\"\n",
    "print (resultado)\n",
    "cadena = input(\"Cadena: \")\n",
    "resultado = \"No está vacía\" if cadena else \"Está vacía\"\n",
    "print (resultado)"
   ]
  },
  {
   "cell_type": "markdown",
   "id": "c3ad3e23",
   "metadata": {},
   "source": [
    "## Ejemplos de uso"
   ]
  },
  {
   "cell_type": "markdown",
   "id": "0a5ea41a",
   "metadata": {},
   "source": [
    "#### Tienes un dispositivo que mide la temperatura y si la temperatura es mayor a 30°C enciende un ventilador y si es menor a 20°C lo apaga"
   ]
  },
  {
   "cell_type": "code",
   "execution_count": 24,
   "id": "da9e5dff",
   "metadata": {},
   "outputs": [
    {
     "name": "stdout",
     "output_type": "stream",
     "text": [
      "Ventilador apagado\n"
     ]
    }
   ],
   "source": [
    "temperatura = float(input(\"Ingresa la temperatura del día en °C: \"))\n",
    "\n",
    "if temperatura > 30:\n",
    "    print(\"Ventilador encendido\")\n",
    "elif temperatura < 20:\n",
    "    print(\"Ventilador apagado\")\n",
    "else:\n",
    "    print(\"No necesitas el ventilador\")"
   ]
  },
  {
   "cell_type": "code",
   "execution_count": 26,
   "id": "750dee04",
   "metadata": {},
   "outputs": [],
   "source": [
    "temperatura = float(input(\"Temperatura: \"))\n",
    "if temperatura > 30:\n",
    "    print (\"Encender ventilador\")\n",
    "elif temperatura < 20:\n",
    "    print (\"Apagar ventilador\")"
   ]
  },
  {
   "cell_type": "markdown",
   "id": "c0832a77",
   "metadata": {},
   "source": [
    "#### Tienes una cesta de frutas y quieres saber si tienes manzanas, si hay manzanas las cuentas y si no hay compras dos manzanas"
   ]
  },
  {
   "cell_type": "code",
   "execution_count": 27,
   "id": "a314e229",
   "metadata": {},
   "outputs": [
    {
     "name": "stdout",
     "output_type": "stream",
     "text": [
      "En la cesta hay: 3 manzanas\n"
     ]
    }
   ],
   "source": [
    "frutas = ['🍎','🍎','🍎','🍐']\n",
    "\n",
    "if '🍎' in frutas:\n",
    "    print(f\"En la cesta hay: {frutas.count('🍎')} manzanas\")\n",
    "else:\n",
    "    print(\"Compra dos manzanas\")"
   ]
  },
  {
   "cell_type": "code",
   "execution_count": 28,
   "id": "b286fa3b",
   "metadata": {},
   "outputs": [
    {
     "name": "stdout",
     "output_type": "stream",
     "text": [
      "['🍐', '🍑', '🍓', '🍉']\n",
      "['🍐', '🍑', '🍓', '🍉', '🍎', '🍎']\n"
     ]
    }
   ],
   "source": [
    "cesta = ['🍐','🍑','🍓','🍉']\n",
    "print (cesta)\n",
    "if '🍎' in cesta:\n",
    "    print (f\"Hay {cesta.count('🍎')} manzanas\")\n",
    "else:\n",
    "    cesta.extend(['🍎','🍎'])\n",
    "    print (cesta)"
   ]
  },
  {
   "cell_type": "code",
   "execution_count": 29,
   "id": "0ff38d63",
   "metadata": {},
   "outputs": [
    {
     "name": "stdout",
     "output_type": "stream",
     "text": [
      "['🍑', '🍓', '🍉']\n",
      "None\n",
      "['🍑', '🍓', '🍉', '🍎', '🍎']\n"
     ]
    }
   ],
   "source": [
    "# Con Operador Ternario\n",
    "cesta = ['🍑','🍓','🍉']\n",
    "print (cesta)\n",
    "resultado = f\"Hay {cesta.count('🍎')} manzanas\" if '🍎' in cesta else cesta.extend(['🍎','🍎'])\n",
    "print (resultado)\n",
    "print (cesta)"
   ]
  },
  {
   "cell_type": "markdown",
   "id": "ee21a0c2",
   "metadata": {},
   "source": [
    "#### En un diccionario tienes almacenado un animal y quieres saber si es un mamífero"
   ]
  },
  {
   "cell_type": "code",
   "execution_count": 30,
   "id": "4aca76d9",
   "metadata": {},
   "outputs": [],
   "source": [
    "animal = {'especie':'🐶', 'nombre': 'Firulais', 'mamifero': True}"
   ]
  },
  {
   "cell_type": "code",
   "execution_count": 32,
   "id": "c923dd19",
   "metadata": {},
   "outputs": [
    {
     "name": "stdout",
     "output_type": "stream",
     "text": [
      "Es un mamífero\n"
     ]
    }
   ],
   "source": [
    "if animal.get('mamifero'):\n",
    "    print(\"Es un mamífero\")\n",
    "else:\n",
    "    print(\"No es un mamífero\")"
   ]
  },
  {
   "cell_type": "markdown",
   "id": "36d4c8aa",
   "metadata": {},
   "source": [
    "#### Dado dos conjuntos, verificar si tienen elementos en común y mostrarlos y si no, unirlos"
   ]
  },
  {
   "cell_type": "code",
   "execution_count": 41,
   "id": "f201e005",
   "metadata": {},
   "outputs": [],
   "source": [
    "conjunto_1 = {'⚽','🏀','🏐'}\n",
    "conjunto_2 = {'🏈','🏉','🏓'}"
   ]
  },
  {
   "cell_type": "code",
   "execution_count": 43,
   "id": "c55031e2",
   "metadata": {},
   "outputs": [
    {
     "name": "stdout",
     "output_type": "stream",
     "text": [
      "{'⚽', '🏀', '🏐'} {'🏓', '🏈', '🏉'}\n",
      "{'⚽', '🏉', '🏀', '🏐', '🏓', '🏈'}\n"
     ]
    }
   ],
   "source": [
    "print (conjunto_1, conjunto_2)\n",
    "if conjunto_1.isdisjoint(conjunto_2):\n",
    "    conjunto_1.update(conjunto_2)\n",
    "    print (conjunto_1)\n",
    "else:\n",
    "    print (\"Tienen elementos en común\")\n",
    "    print (conjunto_1.intersection(conjunto_2))"
   ]
  },
  {
   "cell_type": "markdown",
   "id": "7fe19e27",
   "metadata": {},
   "source": [
    "#### Validar si un correo electrónico es válido usando input"
   ]
  },
  {
   "cell_type": "code",
   "execution_count": 44,
   "id": "82a007e7",
   "metadata": {},
   "outputs": [
    {
     "name": "stdout",
     "output_type": "stream",
     "text": [
      "El correo no es válido\n"
     ]
    }
   ],
   "source": [
    "correo = input(\"Correo: \")\n",
    "if \"@\" in correo and \".\" in correo and correo.count(\"@\") == 1:\n",
    "    if correo.find(\"@\") < correo.rfind(\".\") and correo.find(\"@\") > 0 and correo.rfind(\".\") < len(correo) - 1:\n",
    "        if correo.rfind(\".\") - correo.find(\"@\") > 1:\n",
    "            if correo.find(\".\") - correo.find(\"@\") > 1:\n",
    "                print (\"El correo es válido\")\n",
    "            else:\n",
    "                print (\"El correo no es válido\")\n",
    "        else:\n",
    "            print (\"El correo no es válido\")\n",
    "    else:\n",
    "        print (\"El correo no es válido\")\n",
    "else:\n",
    "    print (\"El correo no es válido\")"
   ]
  },
  {
   "cell_type": "markdown",
   "id": "0d33aed0",
   "metadata": {},
   "source": [
    "### Solución con elif"
   ]
  },
  {
   "cell_type": "code",
   "execution_count": 46,
   "id": "410618d2",
   "metadata": {},
   "outputs": [
    {
     "name": "stdout",
     "output_type": "stream",
     "text": [
      "El correo no es válido\n",
      "El correo es válido\n"
     ]
    }
   ],
   "source": [
    "correo = input(\"Correo: \")\n",
    "if \"@\" not in correo or \".\" not in correo or correo.count(\"@\") != 1:\n",
    "    print(\"El correo no es válido\")\n",
    "elif correo.find(\"@\") >= correo.rfind(\".\") or correo.find(\"@\") == 0 or correo.rfind(\".\") == len(correo) - 1:\n",
    "    print(\"El correo no es válido\")\n",
    "elif correo.rfind(\".\") - correo.find(\"@\") <= 1:\n",
    "    print(\"El correo no es válido\")\n",
    "elif correo.find(\".\") - correo.find(\"@\") == 1:\n",
    "    print(\"El correo no es válido\")\n",
    "else:\n",
    "    print(\"El correo es válido\")\n",
    "correo = input(\"Correo: \")\n",
    "if \"@\" not in correo or \".\" not in correo or correo.count(\"@\") != 1:\n",
    "    print(\"El correo no es válido\")\n",
    "elif correo.find(\"@\") >= correo.rfind(\".\") or correo.find(\"@\") == 0 or correo.rfind(\".\") == len(correo) - 1:\n",
    "    print(\"El correo no es válido\")\n",
    "elif correo.rfind(\".\") - correo.find(\"@\") <= 1:\n",
    "    print(\"El correo no es válido\")\n",
    "elif correo.find(\".\") - correo.find(\"@\") == 1:\n",
    "    print(\"El correo no es válido\")\n",
    "else:\n",
    "    print(\"El correo es válido\")"
   ]
  }
 ],
 "metadata": {
  "kernelspec": {
   "display_name": "Python 3",
   "language": "python",
   "name": "python3"
  },
  "language_info": {
   "codemirror_mode": {
    "name": "ipython",
    "version": 3
   },
   "file_extension": ".py",
   "mimetype": "text/x-python",
   "name": "python",
   "nbconvert_exporter": "python",
   "pygments_lexer": "ipython3",
   "version": "3.13.3"
  }
 },
 "nbformat": 4,
 "nbformat_minor": 5
}
