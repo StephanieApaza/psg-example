{
 "cells": [
  {
   "cell_type": "markdown",
   "id": "296bc6e3",
   "metadata": {},
   "source": [
    "# Errores y Excepciones"
   ]
  },
  {
   "cell_type": "markdown",
   "id": "e6374633",
   "metadata": {},
   "source": [
    "## Try - Except"
   ]
  },
  {
   "cell_type": "markdown",
   "id": "e2cfc9ee",
   "metadata": {},
   "source": [
    "#### Estructura de una excepción Simple"
   ]
  },
  {
   "cell_type": "code",
   "execution_count": 2,
   "id": "08dad694",
   "metadata": {},
   "outputs": [],
   "source": [
    "#try:\n",
    "    # Código que puede lanzar una excepción\n",
    "#except Exception as e:\n",
    "    # Código que se ejecuta si se produce una excepción\n",
    "# Código que se ejecuta siempre fuera del bloque try-except"
   ]
  },
  {
   "cell_type": "code",
   "execution_count": 4,
   "id": "72c0c940",
   "metadata": {},
   "outputs": [
    {
     "name": "stdout",
     "output_type": "stream",
     "text": [
      "Inicio Ejemplo 1\n",
      "Fin Ejemplo 1\n"
     ]
    }
   ],
   "source": [
    "# Ejemplo 1, División por cero\n",
    "print (\"Inicio Ejemplo 1\")\n",
    "#x = 1 / 0\n",
    "#print (x)\n",
    "print (\"Fin Ejemplo 1\")"
   ]
  },
  {
   "cell_type": "code",
   "execution_count": 5,
   "id": "36d896cc",
   "metadata": {},
   "outputs": [
    {
     "name": "stdout",
     "output_type": "stream",
     "text": [
      "Inicio Ejemplo 1\n",
      "💀 Error: division by zero <class 'ZeroDivisionError'>\n",
      "Fin Ejemplo 1\n"
     ]
    }
   ],
   "source": [
    "print (\"Inicio Ejemplo 1\")\n",
    "try:\n",
    "    x = 1 / 0\n",
    "    print (x)\n",
    "except Exception as e:\n",
    "    print(\"💀 Error:\", e, type(e))\n",
    "print (\"Fin Ejemplo 1\")"
   ]
  },
  {
   "cell_type": "code",
   "execution_count": 6,
   "id": "911bd69b",
   "metadata": {},
   "outputs": [
    {
     "name": "stdout",
     "output_type": "stream",
     "text": [
      "Resultado: 6.428571428571429\n"
     ]
    }
   ],
   "source": [
    "# Ejercicio 1, Crear un programa que solicite dos números y realice la división de ambos números \n",
    "# Si hay un error mostrar un mensaje de error El programa se detiene si se ingresa \"salir\"\n",
    "while True:\n",
    "    try:\n",
    "        num1 = input(\"Ingrese el primer número: \")\n",
    "        if num1 == \"salir\":\n",
    "            break\n",
    "        num2 = input(\"Ingrese el segundo número: \")\n",
    "        if num2 == \"salir\":\n",
    "            break\n",
    "        num1 = float(num1)\n",
    "        num2 = float(num2)\n",
    "        print(\"Resultado:\", num1 / num2)\n",
    "    except Exception as e:\n",
    "        print(\"💀 Error:\", e)"
   ]
  },
  {
   "cell_type": "markdown",
   "id": "232f1d49",
   "metadata": {},
   "source": [
    "### Excepciones múltiples"
   ]
  },
  {
   "cell_type": "markdown",
   "id": "3401cd74",
   "metadata": {},
   "source": [
    "#### Estructura"
   ]
  },
  {
   "cell_type": "code",
   "execution_count": 7,
   "id": "90dfa433",
   "metadata": {},
   "outputs": [],
   "source": [
    "#try:\n",
    "    # Código que puede lanzar una excepción\n",
    "#except ZeroDivisionError as e:\n",
    "    # Código si se produce una excepción de división por cero\n",
    "#except Exception as e:\n",
    "    # Código si se produce una excepción genérica"
   ]
  },
  {
   "cell_type": "code",
   "execution_count": 8,
   "id": "7f4f85c5",
   "metadata": {},
   "outputs": [
    {
     "name": "stdout",
     "output_type": "stream",
     "text": [
      "Inicio Ejemplo 2\n",
      "0️⃣ Error: division by zero <class 'ZeroDivisionError'>\n",
      "Fin Ejemplo 2\n"
     ]
    }
   ],
   "source": [
    "# Ejemplo 2, División por cero\n",
    "print (\"Inicio Ejemplo 2\")\n",
    "divisor = 0\n",
    "try:\n",
    "    x = 1 / divisor\n",
    "    print (x)\n",
    "except ZeroDivisionError as e:\n",
    "    print(\"0️⃣ Error:\", e, type(e))\n",
    "except Exception as e:\n",
    "    print(\"💀 Error:\", e, type(e))\n",
    "print (\"Fin Ejemplo 2\")"
   ]
  },
  {
   "cell_type": "markdown",
   "id": "31ff6f23",
   "metadata": {},
   "source": [
    "### Jerarquía de excepciones"
   ]
  },
  {
   "cell_type": "code",
   "execution_count": 9,
   "id": "e80100e4",
   "metadata": {},
   "outputs": [
    {
     "name": "stdout",
     "output_type": "stream",
     "text": [
      "Inicio Ejemplo 2\n",
      "💀 Error: division by zero <class 'ZeroDivisionError'>\n",
      "Fin Ejemplo 2\n"
     ]
    }
   ],
   "source": [
    "# Ejemplo 2, División por cero\n",
    "print (\"Inicio Ejemplo 2\")\n",
    "divisor = 0\n",
    "try:\n",
    "    x = 1 / divisor\n",
    "    print (x)\n",
    "except Exception as e: # Captura cualquier excepción\n",
    "    print(\"💀 Error:\", e, type(e))\n",
    "except ZeroDivisionError as e:\n",
    "    print(\"0️⃣ Error:\", e, type(e))\n",
    "print (\"Fin Ejemplo 2\")"
   ]
  },
  {
   "cell_type": "code",
   "execution_count": 10,
   "id": "0c3c2ff8",
   "metadata": {},
   "outputs": [
    {
     "name": "stdout",
     "output_type": "stream",
     "text": [
      "🎭 Error: unsupported operand type(s) for +=: 'int' and 'str' <class 'TypeError'>\n"
     ]
    }
   ],
   "source": [
    "# Ejemplo 3, De la lista de calificaciones obtener el promedio\n",
    "calificaciones = [20,40,80,\"A\"]\n",
    "suma = 0\n",
    "try:\n",
    "    for i in range(len(calificaciones)+1):\n",
    "        suma += calificaciones[i] \n",
    "    promedio = suma / len(calificaciones)\n",
    "    print(\"Promedio:\", promedio)\n",
    "except ZeroDivisionError as e:\n",
    "    print(\"0️⃣ Error:\", e, type(e))\n",
    "except TypeError as e:\n",
    "    print(\"🎭 Error:\", e, type(e))\n",
    "except Exception as e:\n",
    "    print(\"💀 Error:\", e, type(e))"
   ]
  },
  {
   "cell_type": "code",
   "execution_count": 11,
   "id": "300ab76b",
   "metadata": {},
   "outputs": [
    {
     "name": "stdout",
     "output_type": "stream",
     "text": [
      "💀 Error: list index out of range <class 'IndexError'>\n"
     ]
    }
   ],
   "source": [
    "# Ejemplo 3, De la lista de calificaciones obtener el promedio\n",
    "calificaciones = [20,40,80]\n",
    "suma = 0\n",
    "try:\n",
    "    for i in range(len(calificaciones)+1):\n",
    "        suma += calificaciones[i]\n",
    "    promedio = suma / len(calificaciones)\n",
    "    print(\"Promedio:\", promedio)\n",
    "except ZeroDivisionError as e:\n",
    "    print(\"0️⃣ Error:\", e, type(e))\n",
    "except TypeError as e:\n",
    "    print(\"🎭 Error:\", e, type(e))\n",
    "except Exception as e: # Captura cualquier excepción\n",
    "    print(\"💀 Error:\", e, type(e))"
   ]
  },
  {
   "cell_type": "code",
   "execution_count": 12,
   "id": "4ede3e3d",
   "metadata": {},
   "outputs": [
    {
     "name": "stdout",
     "output_type": "stream",
     "text": [
      "Promedio: 46.666666666666664\n"
     ]
    }
   ],
   "source": [
    "# Ejemplo 3, De la lista de calificaciones obtener el promedio\n",
    "calificaciones = [20,40,80]\n",
    "suma = 0\n",
    "try:\n",
    "    for i in range(len(calificaciones)):\n",
    "        suma += calificaciones[i] # suma = suma + calificaciones[i]\n",
    "    promedio = suma / len(calificaciones)\n",
    "    print(\"Promedio:\", promedio)\n",
    "except ZeroDivisionError as e:\n",
    "    print(\"0️⃣ Error:\", e, type(e))\n",
    "except TypeError as e:\n",
    "    print(\"🎭 Error:\", e, type(e))\n",
    "except Exception as e:\n",
    "    print(\"💀 Error:\", e, type(e))"
   ]
  },
  {
   "cell_type": "markdown",
   "id": "d902a923",
   "metadata": {},
   "source": [
    "### Bloque else"
   ]
  },
  {
   "cell_type": "markdown",
   "id": "eebb23e8",
   "metadata": {},
   "source": [
    "#### Estructura"
   ]
  },
  {
   "cell_type": "code",
   "execution_count": 13,
   "id": "4f1e8891",
   "metadata": {},
   "outputs": [],
   "source": [
    "#try:\n",
    "    # Código que puede lanzar una excepción\n",
    "#except Exception as e:\n",
    "    # Código si se produce una excepción\n",
    "#else:\n",
    "    # Código si no se produce ninguna excepción"
   ]
  },
  {
   "cell_type": "code",
   "execution_count": 14,
   "id": "40244faa",
   "metadata": {},
   "outputs": [
    {
     "name": "stdout",
     "output_type": "stream",
     "text": [
      "Inicio Ejemplo 4\n",
      "Promedio: 46.666666666666664\n",
      "🎉 Sin errores\n",
      "Fin Ejemplo 4\n"
     ]
    }
   ],
   "source": [
    "# Ejemplo 4, De la lista de calificaciones obtener el promedio\n",
    "print (\"Inicio Ejemplo 4\")\n",
    "calificaciones = [20,40,80]\n",
    "suma = 0\n",
    "try:\n",
    "    for i in range(len(calificaciones)):\n",
    "        suma += calificaciones[i]\n",
    "    promedio = suma / len(calificaciones)\n",
    "    print(\"Promedio:\", promedio)\n",
    "except Exception as e:\n",
    "    print(\"💀 Error:\", e, type(e))\n",
    "else:\n",
    "    print (\"🎉 Sin errores\")\n",
    "print (\"Fin Ejemplo 4\")"
   ]
  },
  {
   "cell_type": "code",
   "execution_count": 15,
   "id": "b56a13a2",
   "metadata": {},
   "outputs": [
    {
     "name": "stdout",
     "output_type": "stream",
     "text": [
      "🎉 Resultado:  7.0\n"
     ]
    }
   ],
   "source": [
    "# Ejercicio 2, Crear un programa que solicite dos números y mediante una función devuelva la división de ambos\n",
    "# Si hay un error mostrar un mensaje de error. El programa se detiene si se ingresa \"salir\"\n",
    "# Añadir un bloque else que muestre el resultado de la función\n",
    "def division(num1, num2):\n",
    "    return num1 / num2\n",
    "\n",
    "while True:\n",
    "    try:\n",
    "        num1 = input(\"Ingrese el primer número: \")\n",
    "        if num1 == \"salir\":\n",
    "            break\n",
    "        num2 = input(\"Ingrese el segundo número: \")\n",
    "        if num2 == \"salir\":\n",
    "            break\n",
    "        num1 = float(num1)\n",
    "        num2 = float(num2)\n",
    "        resultado = division(num1, num2)\n",
    "    except Exception as e:\n",
    "        print(\"💀 Error:\", e)\n",
    "    else:\n",
    "        print(\"🎉 Resultado: \",resultado)"
   ]
  },
  {
   "cell_type": "markdown",
   "id": "14a3f155",
   "metadata": {},
   "source": [
    "### Bloque finally"
   ]
  },
  {
   "cell_type": "markdown",
   "id": "63b77e17",
   "metadata": {},
   "source": [
    "#### Estructura"
   ]
  },
  {
   "cell_type": "code",
   "execution_count": 16,
   "id": "2eec6dab",
   "metadata": {},
   "outputs": [],
   "source": [
    "# try:\n",
    "    # Código que puede lanzar una excepción\n",
    "# except Exception as e:\n",
    "    # Código si se produce una excepción\n",
    "# else:\n",
    "    # Código si no se produce ninguna excepción\n",
    "# finally:\n",
    "    # Código que se ejecuta siempre"
   ]
  },
  {
   "cell_type": "code",
   "execution_count": 17,
   "id": "888ea236",
   "metadata": {},
   "outputs": [
    {
     "name": "stdout",
     "output_type": "stream",
     "text": [
      "Inicio Ejemplo 5\n",
      "🔗 Ping...\n",
      "🎉 Ping Exitoso\n",
      "🔌 Cerrando conexión\n"
     ]
    }
   ],
   "source": [
    "# Ejemplo 5, Simula una conexión a internet que haga ping y cerrar la conexión\n",
    "print (\"Inicio Ejemplo 5\")\n",
    "try:\n",
    "    print(\"🔗 Ping...\")\n",
    "except Exception as e:\n",
    "    print(\"💀 Error:\", e)\n",
    "else:\n",
    "    print(\"🎉 Ping Exitoso\")\n",
    "finally:\n",
    "    print(\"🔌 Cerrando conexión\")"
   ]
  },
  {
   "cell_type": "markdown",
   "id": "2cb9ab06",
   "metadata": {},
   "source": [
    "### Raise"
   ]
  },
  {
   "cell_type": "markdown",
   "id": "ec4839f7",
   "metadata": {},
   "source": [
    "#### Estructura"
   ]
  },
  {
   "cell_type": "code",
   "execution_count": 18,
   "id": "da1155ac",
   "metadata": {},
   "outputs": [],
   "source": [
    "# raise Exception(\"Mensaje de error\")"
   ]
  },
  {
   "cell_type": "code",
   "execution_count": 19,
   "id": "057a7feb",
   "metadata": {},
   "outputs": [
    {
     "name": "stdout",
     "output_type": "stream",
     "text": [
      "Inicio Ejemplo 6\n",
      "🔗 Ping...\n",
      "💀 Error: Error de conexión\n",
      "🔌 Cerrando conexión\n"
     ]
    }
   ],
   "source": [
    "# Ejemplo 6, Simula una conexión a internet que haga ping y cerrar la conexión\n",
    "print (\"Inicio Ejemplo 6\")\n",
    "try:\n",
    "    print(\"🔗 Ping...\")\n",
    "    raise Exception(\"Error de conexión\") #Excepción genérica\n",
    "except Exception as e: # Captura cualquier excepción\n",
    "    print(\"💀 Error:\", e)\n",
    "else:\n",
    "    print(\"🎉 Ping Exitoso\")\n",
    "finally:\n",
    "    print(\"🔌 Cerrando conexión\")"
   ]
  },
  {
   "cell_type": "code",
   "execution_count": 20,
   "id": "ae3ed131",
   "metadata": {},
   "outputs": [
    {
     "name": "stdout",
     "output_type": "stream",
     "text": [
      "🎉 Número agregado\n",
      "Suma: 5.0\n",
      "🎉 Número agregado\n",
      "Suma: 72.0\n",
      "🎉 Número agregado\n",
      "Suma: 95.0\n",
      "🎉 Número agregado\n",
      "Suma: 181.0\n",
      "🎉 Número agregado\n",
      "Suma: 185.0\n",
      "Suma: 185.0\n"
     ]
    }
   ],
   "source": [
    "# Ejercicio 3, Escriba un programa que solicite un número por teclado y se almacene en una lista\n",
    "# Si es 0 se genera una excepción\n",
    "# Si la ejecución es correcta muestra \"🎉Agregado\"\n",
    "# Termina la ejecución sólo con la palabra \"salir\" utilizar la excepción KeyboardInterrupt\n",
    "# Finalmente imprima siempre la suma de los números y la lista\n",
    "numeros = []\n",
    "while True:\n",
    "    try:\n",
    "        num = input(\"Ingrese un número: \")\n",
    "        if num == \"salir\":\n",
    "            break\n",
    "        num = float(num)\n",
    "        if num == 0:\n",
    "            raise Exception(\"No se puede agregar el número 0\")\n",
    "        numeros.append(num)\n",
    "    except KeyboardInterrupt as e:\n",
    "        print('🚫 Para salir escriba \"salir\"')\n",
    "    except Exception as e:\n",
    "        print(\"💀 Error:\", e)\n",
    "    else:\n",
    "        print(\"🎉 Número agregado\")\n",
    "    finally:\n",
    "        print(\"Suma:\", sum(numeros))"
   ]
  },
  {
   "cell_type": "markdown",
   "id": "fdc86511",
   "metadata": {},
   "source": [
    "### Pass"
   ]
  },
  {
   "cell_type": "code",
   "execution_count": 21,
   "id": "e056d10f",
   "metadata": {},
   "outputs": [
    {
     "name": "stdout",
     "output_type": "stream",
     "text": [
      "Inicio Ejemplo 7\n",
      "Fin Ejemplo 7\n"
     ]
    }
   ],
   "source": [
    "# Ejemplo 7, Crea una función que no hace nada\n",
    "print(\"Inicio Ejemplo 7\")\n",
    "def funcion():\n",
    "    pass\n",
    "\n",
    "funcion()\n",
    "print(\"Fin Ejemplo 7\")"
   ]
  },
  {
   "cell_type": "markdown",
   "id": "c0673504",
   "metadata": {},
   "source": [
    "### Excepciones personalizadas"
   ]
  },
  {
   "cell_type": "markdown",
   "id": "0e1f2ea2",
   "metadata": {},
   "source": [
    "#### Estructura"
   ]
  },
  {
   "cell_type": "code",
   "execution_count": 22,
   "id": "cf199391",
   "metadata": {},
   "outputs": [],
   "source": [
    "# class MiError(Exception):\n",
    "    # pass\n",
    "\n",
    "# raise MiError(\"Mensaje de error\")"
   ]
  },
  {
   "cell_type": "code",
   "execution_count": 23,
   "id": "b9ffdd9b",
   "metadata": {},
   "outputs": [
    {
     "name": "stdout",
     "output_type": "stream",
     "text": [
      "Inicio Ejemplo 8\n",
      "🍎\n",
      "🍌\n",
      "🍐\n",
      "🐛 Error: 😱 Ewww!\n",
      "🍇\n",
      "Fin Ejemplo 8\n"
     ]
    }
   ],
   "source": [
    "# Ejemplo 8, Tienes un frutero, saca las frutas mientras no sea un gusano y genera una excepción\n",
    "print(\"Inicio Ejemplo 8\")\n",
    "class GusanoError(Exception):\n",
    "    pass\n",
    "\n",
    "frutero = ['🍎', '🍌', '🍐', '🐛', '🍇']\n",
    "for fruta in frutero:\n",
    "    try:\n",
    "        if fruta == '🐛':\n",
    "            raise GusanoError(\"😱 Ewww!\")\n",
    "        print(fruta)\n",
    "    except GusanoError as e:\n",
    "        print(\"🐛 Error:\", e)\n",
    "    except Exception as e:\n",
    "        print(\"💀 Error:\", e)\n",
    "print(\"Fin Ejemplo 8\")"
   ]
  },
  {
   "cell_type": "code",
   "execution_count": 25,
   "id": "671b3f48",
   "metadata": {},
   "outputs": [
    {
     "name": "stdout",
     "output_type": "stream",
     "text": [
      "🚫 Error: Solo se permiten letras\n",
      "Lista: []\n",
      "🎉 Palabra agregada\n",
      "Lista: ['lunes']\n",
      "🎉 Palabra agregada\n",
      "Lista: ['lunes', 'tomorrow']\n",
      "Lista: ['lunes', 'tomorrow']\n"
     ]
    }
   ],
   "source": [
    "# Ejercicio 4, Crear un programa que solicite palabras por teclado y almacene en una lista\n",
    "# Si se inserta caracteres no alfabéticos se genera una excepción personalizada y no se almacena\n",
    "# Si se ingresa \"salir\" se termina la ejecución\n",
    "# Mostrar el mensaje \"🎉 Palabra agregada\" si no hay errores\n",
    "# Finalmente imprimir la lista de palabras\n",
    "\n",
    "class NoAlfabeticoError(Exception):\n",
    "    pass\n",
    "\n",
    "palabras = []\n",
    "while True:\n",
    "    try:\n",
    "        palabra = input(\"Ingrese una palabra: \")\n",
    "        if palabra == \"salir\":\n",
    "            break\n",
    "        if not palabra.isalpha():\n",
    "            raise NoAlfabeticoError(\"Solo se permiten letras\")\n",
    "        palabras.append(palabra)\n",
    "    except NoAlfabeticoError as e:\n",
    "        print(\"🚫 Error:\", e)\n",
    "    except Exception as e:\n",
    "        print(\"💀 Error:\", e)\n",
    "    else:\n",
    "        print(\"🎉 Palabra agregada\")\n",
    "    finally:\n",
    "        print(\"Lista:\", palabras)"
   ]
  }
 ],
 "metadata": {
  "kernelspec": {
   "display_name": "Python 3",
   "language": "python",
   "name": "python3"
  },
  "language_info": {
   "codemirror_mode": {
    "name": "ipython",
    "version": 3
   },
   "file_extension": ".py",
   "mimetype": "text/x-python",
   "name": "python",
   "nbconvert_exporter": "python",
   "pygments_lexer": "ipython3",
   "version": "3.13.3"
  }
 },
 "nbformat": 4,
 "nbformat_minor": 5
}
