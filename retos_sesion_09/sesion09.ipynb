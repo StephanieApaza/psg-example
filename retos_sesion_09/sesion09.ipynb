{
 "cells": [
  {
   "cell_type": "markdown",
   "id": "be45e5b9",
   "metadata": {},
   "source": [
    "# Listas"
   ]
  },
  {
   "cell_type": "markdown",
   "id": "435c17ec",
   "metadata": {},
   "source": [
    "### Lista de enteros"
   ]
  },
  {
   "cell_type": "code",
   "execution_count": 1,
   "id": "4203f24c",
   "metadata": {},
   "outputs": [
    {
     "name": "stdout",
     "output_type": "stream",
     "text": [
      "Lista de enteros\n",
      "[1, 2, 3, 4, 5]\n"
     ]
    }
   ],
   "source": [
    "print (\"Lista de enteros\")\n",
    "mi_lista = [1,2,3,4,5]\n",
    "print (mi_lista)"
   ]
  },
  {
   "cell_type": "markdown",
   "id": "3c139edf",
   "metadata": {},
   "source": [
    "### Lista de cadenas"
   ]
  },
  {
   "cell_type": "code",
   "execution_count": 2,
   "id": "925c1c5f",
   "metadata": {},
   "outputs": [
    {
     "name": "stdout",
     "output_type": "stream",
     "text": [
      "Lista de cadenas\n",
      "['hola', 'mundo', 'python']\n"
     ]
    }
   ],
   "source": [
    "print (\"Lista de cadenas\")\n",
    "mi_lista = [\"hola\", \"mundo\", \"python\"]\n",
    "print (mi_lista)"
   ]
  },
  {
   "cell_type": "markdown",
   "id": "8c3c21da",
   "metadata": {},
   "source": [
    "### Lista mixta"
   ]
  },
  {
   "cell_type": "code",
   "execution_count": 3,
   "id": "0db70aa1",
   "metadata": {},
   "outputs": [
    {
     "name": "stdout",
     "output_type": "stream",
     "text": [
      "Lista mixta\n",
      "[1, 'hola', 3.14, 'mundo', 5]\n"
     ]
    }
   ],
   "source": [
    "print (\"Lista mixta\")\n",
    "mi_lista = [1, \"hola\", 3.14, \"mundo\", 5]\n",
    "print (mi_lista)"
   ]
  },
  {
   "cell_type": "markdown",
   "id": "75b3a4e7",
   "metadata": {},
   "source": [
    "### Lista vacia"
   ]
  },
  {
   "cell_type": "code",
   "execution_count": 4,
   "id": "6f8147b6",
   "metadata": {},
   "outputs": [
    {
     "name": "stdout",
     "output_type": "stream",
     "text": [
      "Lista vacia\n",
      "[]\n"
     ]
    }
   ],
   "source": [
    "print(\"Lista vacia\")\n",
    "mi_lista = []\n",
    "print(mi_lista)"
   ]
  },
  {
   "cell_type": "markdown",
   "id": "274dc255",
   "metadata": {},
   "source": [
    "### Lista a partir de una cadena"
   ]
  },
  {
   "cell_type": "code",
   "execution_count": 5,
   "id": "7cbf18cd",
   "metadata": {},
   "outputs": [
    {
     "name": "stdout",
     "output_type": "stream",
     "text": [
      "Lista a partir de una cadena\n",
      "['h', 'o', 'l', 'a', ' ', 'm', 'u', 'n', 'd', 'o']\n"
     ]
    }
   ],
   "source": [
    "print (\"Lista a partir de una cadena\")\n",
    "mi_lista = list(\"hola mundo\")\n",
    "print (mi_lista)"
   ]
  },
  {
   "cell_type": "markdown",
   "id": "d19f4275",
   "metadata": {},
   "source": [
    "### Lista a partir de una tupla"
   ]
  },
  {
   "cell_type": "code",
   "execution_count": 6,
   "id": "e1f38410",
   "metadata": {},
   "outputs": [
    {
     "name": "stdout",
     "output_type": "stream",
     "text": [
      "Lista a partir de una tupla\n",
      "(1, 2, 3, 4, 5)\n",
      "[1, 2, 3, 4, 5]\n"
     ]
    }
   ],
   "source": [
    "print (\"Lista a partir de una tupla\")\n",
    "mi_tupla = (1,2,3,4,5)\n",
    "print (mi_tupla)\n",
    "mi_lista = list(mi_tupla)\n",
    "print (mi_lista)"
   ]
  },
  {
   "cell_type": "code",
   "execution_count": 7,
   "id": "1451c927",
   "metadata": {},
   "outputs": [
    {
     "name": "stdout",
     "output_type": "stream",
     "text": [
      "range(0, 10)\n",
      "[0, 1, 2, 3, 4, 5, 6, 7, 8, 9]\n"
     ]
    }
   ],
   "source": [
    "print(range(10))\n",
    "print(list(range(10)))"
   ]
  },
  {
   "cell_type": "markdown",
   "id": "39b6684d",
   "metadata": {},
   "source": [
    "### Lista por comprensión"
   ]
  },
  {
   "cell_type": "code",
   "execution_count": 8,
   "id": "f3310bfe",
   "metadata": {},
   "outputs": [
    {
     "name": "stdout",
     "output_type": "stream",
     "text": [
      "Lista por comprensión\n",
      "[0, 1, 2, 3, 4, 5, 6, 7, 8, 9]\n"
     ]
    }
   ],
   "source": [
    "print(\"Lista por comprensión\")\n",
    "mi_lista = [x for x in range(10)]\n",
    "print(mi_lista)"
   ]
  },
  {
   "cell_type": "markdown",
   "id": "d7b18955",
   "metadata": {},
   "source": [
    "### Indexación y Slicing"
   ]
  },
  {
   "cell_type": "code",
   "execution_count": 12,
   "id": "a380b5e2",
   "metadata": {},
   "outputs": [
    {
     "name": "stdout",
     "output_type": "stream",
     "text": [
      "Indexación positivo de una lista\n",
      "1 <class 'int'>\n",
      "hola <class 'str'>\n",
      "3.14 <class 'float'>\n",
      "(1, 2) <class 'tuple'>\n"
     ]
    }
   ],
   "source": [
    "print (\"Indexación positivo de una lista\")\n",
    "lista = [1, \"hola\", 3.14, (1,2)]\n",
    "print (lista[0], type(lista[0])) \n",
    "print (lista[1], type(lista[1])) \n",
    "print (lista[2], type(lista[2])) \n",
    "print (lista[3], type(lista[3])) "
   ]
  },
  {
   "cell_type": "code",
   "execution_count": 13,
   "id": "356e6568",
   "metadata": {},
   "outputs": [
    {
     "name": "stdout",
     "output_type": "stream",
     "text": [
      "Indexación negativo de una lista\n",
      "(1, 2) <class 'tuple'>\n",
      "3.14 <class 'float'>\n",
      "hola <class 'str'>\n",
      "1 <class 'int'>\n"
     ]
    }
   ],
   "source": [
    "print (\"Indexación negativo de una lista\")\n",
    "lista = [1, \"hola\", 3.14, (1,2)]\n",
    "print (lista[-1], type(lista[-1]))\n",
    "print (lista[-2], type(lista[-2]))\n",
    "print (lista[-3], type(lista[-3]))\n",
    "print (lista[-4], type(lista[-4]))"
   ]
  },
  {
   "cell_type": "markdown",
   "id": "f4dd1d42",
   "metadata": {},
   "source": [
    "### Slicing de una lista"
   ]
  },
  {
   "cell_type": "code",
   "execution_count": 9,
   "id": "73486d2e",
   "metadata": {},
   "outputs": [
    {
     "name": "stdout",
     "output_type": "stream",
     "text": [
      "Slicing de una lista\n",
      "['P', 'y', 't', 'h', 'o', 'n', 'L', 'a', 'P', 'a', 'z']\n",
      "['t', 'h', 'o', 'n', 'L']\n",
      "<class 'list'>\n"
     ]
    }
   ],
   "source": [
    "print(\"Slicing de una lista\")\n",
    "lista = [\"P\", \"y\", \"t\", \"h\", \"o\", \"n\", \"L\", \"a\", \"P\", \"a\", \"z\"]\n",
    "print(lista)\n",
    "sub_lista = lista[2:7]\n",
    "print(sub_lista)\n",
    "print(type(sub_lista))"
   ]
  },
  {
   "cell_type": "markdown",
   "id": "f16885a3",
   "metadata": {},
   "source": [
    "### Modificando los valores de la lista original utilizando la indexación"
   ]
  },
  {
   "cell_type": "code",
   "execution_count": 14,
   "id": "3aa24aa7",
   "metadata": {},
   "outputs": [
    {
     "name": "stdout",
     "output_type": "stream",
     "text": [
      "Modificación de una lista\n",
      "[1, 'hola', 3.14, (1, 2)]\n",
      "[2, 'mundo', 3.14, (1, 2)]\n"
     ]
    }
   ],
   "source": [
    "print (\"Modificación de una lista\")\n",
    "lista = [1, \"hola\", 3.14, (1,2)]\n",
    "print (lista)\n",
    "lista[0] = 2\n",
    "lista[1] = \"mundo\"\n",
    "print (lista)"
   ]
  },
  {
   "cell_type": "markdown",
   "id": "7c6cbae0",
   "metadata": {},
   "source": [
    "### Slicing con paso positivo"
   ]
  },
  {
   "cell_type": "code",
   "execution_count": 10,
   "id": "44bdbe94",
   "metadata": {},
   "outputs": [
    {
     "name": "stdout",
     "output_type": "stream",
     "text": [
      "Slicing con paso positivo\n",
      "['P', 'y', 't', 'h', 'o', 'n', 'L', 'a', 'P', 'a', 'z']\n",
      "['P', 'h', 'L']\n"
     ]
    }
   ],
   "source": [
    "print (\"Slicing con paso positivo\")\n",
    "lista = [\"P\", \"y\", \"t\", \"h\", \"o\", \"n\", \"L\", \"a\", \"P\", \"a\", \"z\"]\n",
    "print (lista)\n",
    "sub_lista = lista[0:9:3]\n",
    "print (sub_lista)"
   ]
  },
  {
   "cell_type": "markdown",
   "id": "f1481f1f",
   "metadata": {},
   "source": [
    "### Slicing con paso negativo"
   ]
  },
  {
   "cell_type": "code",
   "execution_count": 11,
   "id": "c3ef2149",
   "metadata": {},
   "outputs": [
    {
     "name": "stdout",
     "output_type": "stream",
     "text": [
      "Slicing con paso negativo\n",
      "['P', 'y', 't', 'h', 'o', 'n', 'L', 'a', 'P', 'a', 'z']\n",
      "['P', 'o']\n"
     ]
    }
   ],
   "source": [
    "print (\"Slicing con paso negativo\")\n",
    "lista = [\"P\", \"y\", \"t\", \"h\", \"o\", \"n\", \"L\", \"a\", \"P\", \"a\", \"z\"]\n",
    "print (lista)\n",
    "sub_lista = lista[8:2:-4]\n",
    "print (sub_lista)"
   ]
  },
  {
   "cell_type": "markdown",
   "id": "590a88ad",
   "metadata": {},
   "source": [
    "### Slicing negativo con paso negativo"
   ]
  },
  {
   "cell_type": "code",
   "execution_count": 15,
   "id": "56d0bb17",
   "metadata": {},
   "outputs": [
    {
     "name": "stdout",
     "output_type": "stream",
     "text": [
      "Slicing negativo con paso negativo\n",
      "['P', 'y', 't', 'h', 'o', 'n', 'L', 'a', 'P', 'a', 'z']\n",
      "['z', 'P', 'L', 'o']\n"
     ]
    }
   ],
   "source": [
    "print (\"Slicing negativo con paso negativo\")\n",
    "lista = [\"P\", \"y\", \"t\", \"h\", \"o\", \"n\", \"L\", \"a\", \"P\", \"a\", \"z\"]\n",
    "print (lista)\n",
    "sub_lista = lista[-1:-8:-2]\n",
    "print (sub_lista)"
   ]
  },
  {
   "cell_type": "markdown",
   "id": "c0a70e36",
   "metadata": {},
   "source": [
    "### Slicing negativo con paso positivo"
   ]
  },
  {
   "cell_type": "code",
   "execution_count": 16,
   "id": "90e7cf68",
   "metadata": {},
   "outputs": [
    {
     "name": "stdout",
     "output_type": "stream",
     "text": [
      "Slicing negativo con paso positivo\n",
      "['P', 'y', 't', 'h', 'o', 'n', 'L', 'a', 'P', 'a', 'z']\n",
      "['h', 'n', 'a', 'a']\n"
     ]
    }
   ],
   "source": [
    "print (\"Slicing negativo con paso positivo\")\n",
    "lista = [\"P\", \"y\", \"t\", \"h\", \"o\", \"n\", \"L\", \"a\", \"P\", \"a\", \"z\"]\n",
    "print (lista)\n",
    "sub_lista = lista[-8:-1:2]\n",
    "print (sub_lista)"
   ]
  },
  {
   "cell_type": "markdown",
   "id": "629f7e4a",
   "metadata": {},
   "source": [
    "### Concatenación de listas"
   ]
  },
  {
   "cell_type": "code",
   "execution_count": 17,
   "id": "0a55f310",
   "metadata": {},
   "outputs": [
    {
     "name": "stdout",
     "output_type": "stream",
     "text": [
      "Concatenación de listas\n",
      "[1, 2, 3] ['a', 'b', 'c']\n",
      "[1, 2, 3, 'a', 'b', 'c']\n",
      "<class 'list'>\n"
     ]
    }
   ],
   "source": [
    "print (\"Concatenación de listas\")\n",
    "lista1 = [1,2,3]\n",
    "lista2 = [\"a\",\"b\",\"c\"]\n",
    "concatenar = lista1 + lista2\n",
    "print (lista1, lista2)\n",
    "print (concatenar)\n",
    "print (type(concatenar))"
   ]
  },
  {
   "cell_type": "markdown",
   "id": "847e8672",
   "metadata": {},
   "source": [
    "### Repetición de listas"
   ]
  },
  {
   "cell_type": "code",
   "execution_count": 18,
   "id": "d7a9dfc3",
   "metadata": {},
   "outputs": [
    {
     "name": "stdout",
     "output_type": "stream",
     "text": [
      "Repetición de listas\n",
      "[True, False]\n",
      "[True, False, True, False, True, False]\n",
      "<class 'list'>\n"
     ]
    }
   ],
   "source": [
    "print (\"Repetición de listas\")\n",
    "lista = [True, False]\n",
    "repetir = lista * 3\n",
    "print (lista)\n",
    "print (repetir)\n",
    "print (type(repetir))"
   ]
  },
  {
   "cell_type": "markdown",
   "id": "28ca8baf",
   "metadata": {},
   "source": [
    "## Métodos de búsquedas"
   ]
  },
  {
   "cell_type": "markdown",
   "id": "ff2016f3",
   "metadata": {},
   "source": [
    "### Index (valor)"
   ]
  },
  {
   "cell_type": "code",
   "execution_count": 19,
   "id": "9d4d85da",
   "metadata": {},
   "outputs": [
    {
     "name": "stdout",
     "output_type": "stream",
     "text": [
      "Método index(valor)\n",
      "hola 3\n",
      "3.14 2\n"
     ]
    }
   ],
   "source": [
    "print (\"Método index(valor)\")\n",
    "lista = [1,True,3.14,\"hola\",5]\n",
    "valor = \"hola\"\n",
    "print (valor, lista.index(valor))\n",
    "valor = 3.14\n",
    "print (valor, lista.index(valor))"
   ]
  },
  {
   "cell_type": "markdown",
   "id": "b1c838e6",
   "metadata": {},
   "source": [
    "### Count (valor)"
   ]
  },
  {
   "cell_type": "code",
   "execution_count": 20,
   "id": "6a6b4812",
   "metadata": {},
   "outputs": [
    {
     "name": "stdout",
     "output_type": "stream",
     "text": [
      "Método count(valor)\n",
      "True 4\n",
      "3.14 2\n"
     ]
    }
   ],
   "source": [
    "print (\"Método count(valor)\")\n",
    "lista = [1,True,3.14,\"hola\",5, True, True, 3.140]\n",
    "valor = True\n",
    "print (valor, lista.count(valor))\n",
    "valor = 3.14\n",
    "print (valor, lista.count(valor))"
   ]
  },
  {
   "cell_type": "markdown",
   "id": "c8f0db82",
   "metadata": {},
   "source": [
    "## Métodos de adición"
   ]
  },
  {
   "cell_type": "markdown",
   "id": "d37122de",
   "metadata": {},
   "source": [
    "### insert (i, valor)"
   ]
  },
  {
   "cell_type": "code",
   "execution_count": 21,
   "id": "72c3f268",
   "metadata": {},
   "outputs": [
    {
     "name": "stdout",
     "output_type": "stream",
     "text": [
      "Método insert(i, valor)\n",
      "[1, 2, 3, 4, 5]\n",
      "[1, 2, 'OwO', 3, 4, 5]\n"
     ]
    }
   ],
   "source": [
    "print (\"Método insert(i, valor)\")\n",
    "lista = [1,2,3,4,5]\n",
    "print (lista)\n",
    "lista.insert(2, \"OwO\")\n",
    "print (lista)"
   ]
  },
  {
   "cell_type": "markdown",
   "id": "903ea993",
   "metadata": {},
   "source": [
    "### append(valor)"
   ]
  },
  {
   "cell_type": "code",
   "execution_count": 22,
   "id": "66fb0482",
   "metadata": {},
   "outputs": [
    {
     "name": "stdout",
     "output_type": "stream",
     "text": [
      "Método append(valor)\n",
      "[1, 2, 3, 4, 5]\n",
      "[1, 2, 3, 4, 5, '(OwO=)']\n"
     ]
    }
   ],
   "source": [
    "print (\"Método append(valor)\")\n",
    "lista = [1,2,3,4,5]\n",
    "print (lista)\n",
    "lista.append(\"(OwO=)\")\n",
    "print (lista)"
   ]
  },
  {
   "cell_type": "markdown",
   "id": "7db93714",
   "metadata": {},
   "source": [
    "### extend (iterable)"
   ]
  },
  {
   "cell_type": "code",
   "execution_count": 23,
   "id": "77320ad7",
   "metadata": {},
   "outputs": [
    {
     "name": "stdout",
     "output_type": "stream",
     "text": [
      "Método extend(iterable)\n",
      "[1, 2, 3]\n",
      "[1, 2, 3, ':', '3']\n",
      "[1, 2, 3, ':', '3', '(¬_¬ )', '(O_O=)']\n",
      "[1, 2, 3, ':', '3', '(¬_¬ )', '(O_O=)', '😅', '😎']\n"
     ]
    }
   ],
   "source": [
    "print (\"Método extend(iterable)\")\n",
    "lista = [1,2,3]\n",
    "print (lista)\n",
    "lista.extend(\":3\")\n",
    "print (lista)\n",
    "lista.extend([\"(¬_¬ )\", \"(O_O=)\"])\n",
    "print (lista)\n",
    "lista.extend((\"😅\", \"😎\"))\n",
    "print (lista)"
   ]
  },
  {
   "cell_type": "markdown",
   "id": "465c6c4e",
   "metadata": {},
   "source": [
    "## Métodos de eliminación"
   ]
  },
  {
   "cell_type": "markdown",
   "id": "6cf1c953",
   "metadata": {},
   "source": [
    "### remove (valor)"
   ]
  },
  {
   "cell_type": "code",
   "execution_count": 24,
   "id": "a27a1c00",
   "metadata": {},
   "outputs": [
    {
     "name": "stdout",
     "output_type": "stream",
     "text": [
      "Método remove(valor)\n",
      "[1, 2, 'UwU', 4, 5, 'UwU']\n",
      "[1, 2, 4, 5, 'UwU']\n"
     ]
    }
   ],
   "source": [
    "print (\"Método remove(valor)\")\n",
    "lista = [1,2,\"UwU\",4,5, \"UwU\"]\n",
    "print (lista)\n",
    "lista.remove(\"UwU\")\n",
    "print (lista)"
   ]
  },
  {
   "cell_type": "markdown",
   "id": "20616bea",
   "metadata": {},
   "source": [
    "### pop(i) o pop()"
   ]
  },
  {
   "cell_type": "code",
   "execution_count": 25,
   "id": "874752fe",
   "metadata": {},
   "outputs": [
    {
     "name": "stdout",
     "output_type": "stream",
     "text": [
      "Método pop(i)\n",
      "['OwO', 3, 'UwU', 5]\n",
      "['OwO', 'UwU', 5]\n",
      "Método pop()\n",
      "['OwO', 'UwU']\n"
     ]
    }
   ],
   "source": [
    "print (\"Método pop(i)\")\n",
    "lista = [\"OwO\",3,\"UwU\",5]\n",
    "print (lista)\n",
    "lista.pop(1)\n",
    "print (lista)\n",
    "print (\"Método pop()\")\n",
    "lista.pop()\n",
    "print (lista)"
   ]
  },
  {
   "cell_type": "markdown",
   "id": "1a0d1e65",
   "metadata": {},
   "source": [
    "### clear()"
   ]
  },
  {
   "cell_type": "code",
   "execution_count": 26,
   "id": "a4e79628",
   "metadata": {},
   "outputs": [
    {
     "name": "stdout",
     "output_type": "stream",
     "text": [
      "Método clear()\n",
      "['ewe', 'OwO', 'UwU']\n",
      "[]\n"
     ]
    }
   ],
   "source": [
    "print (\"Método clear()\")\n",
    "lista = [\"ewe\",\"OwO\",\"UwU\"]\n",
    "print (lista)\n",
    "lista.clear()\n",
    "print (lista)"
   ]
  },
  {
   "cell_type": "markdown",
   "id": "b6b3e2d2",
   "metadata": {},
   "source": [
    "## Métodos de ordenamiento"
   ]
  },
  {
   "cell_type": "markdown",
   "id": "d402abcd",
   "metadata": {},
   "source": [
    "### sort()"
   ]
  },
  {
   "cell_type": "code",
   "execution_count": 27,
   "id": "38f11090",
   "metadata": {},
   "outputs": [
    {
     "name": "stdout",
     "output_type": "stream",
     "text": [
      "Método sort()\n",
      "[3, 1, 5, 2, 4]\n",
      "[1, 2, 3, 4, 5]\n"
     ]
    }
   ],
   "source": [
    "print (\"Método sort()\")\n",
    "lista = [3,1,5,2,4]\n",
    "print (lista)\n",
    "lista.sort()\n",
    "print (lista)\n"
   ]
  },
  {
   "cell_type": "markdown",
   "id": "f7956382",
   "metadata": {},
   "source": [
    "### sort(reverse=True)"
   ]
  },
  {
   "cell_type": "code",
   "execution_count": 28,
   "id": "79e08c6e",
   "metadata": {},
   "outputs": [
    {
     "name": "stdout",
     "output_type": "stream",
     "text": [
      "Método sort()\n",
      "[3, 1, 5, 2, 4]\n",
      "[5, 4, 3, 2, 1]\n"
     ]
    }
   ],
   "source": [
    "print (\"Método sort()\")\n",
    "lista = [3,1,5,2,4]\n",
    "print (lista)\n",
    "lista.sort(reverse=True)\n",
    "print (lista)"
   ]
  },
  {
   "cell_type": "markdown",
   "id": "6e86b33b",
   "metadata": {},
   "source": [
    "### reverse()"
   ]
  },
  {
   "cell_type": "code",
   "execution_count": 29,
   "id": "34b34ae2",
   "metadata": {},
   "outputs": [
    {
     "name": "stdout",
     "output_type": "stream",
     "text": [
      "Método reverse()\n",
      "[3, 1, 5, 2, 4]\n",
      "[4, 2, 5, 1, 3]\n"
     ]
    }
   ],
   "source": [
    "print (\"Método reverse()\")\n",
    "lista = [3,1,5,2,4]\n",
    "print (lista)\n",
    "lista.reverse()\n",
    "print (lista)"
   ]
  },
  {
   "cell_type": "markdown",
   "id": "9eb6649a",
   "metadata": {},
   "source": [
    "## Métodos de copia"
   ]
  },
  {
   "cell_type": "markdown",
   "id": "47cea48e",
   "metadata": {},
   "source": [
    "### copy ()"
   ]
  },
  {
   "cell_type": "code",
   "execution_count": 30,
   "id": "625f113d",
   "metadata": {},
   "outputs": [
    {
     "name": "stdout",
     "output_type": "stream",
     "text": [
      "Método copy()\n",
      "[3, 1, 5, 2, 4]\n",
      "[3, 1, 5, 2, 4]\n",
      "True\n"
     ]
    }
   ],
   "source": [
    "print (\"Método copy()\")\n",
    "lista = [3,1,5,2,4]\n",
    "print (lista)\n",
    "copia = lista.copy()\n",
    "print (copia)\n",
    "print (copia == lista)"
   ]
  },
  {
   "cell_type": "markdown",
   "id": "2ef7d61a",
   "metadata": {},
   "source": [
    "### con slicing"
   ]
  },
  {
   "cell_type": "code",
   "execution_count": 32,
   "id": "5a93cda6",
   "metadata": {},
   "outputs": [
    {
     "name": "stdout",
     "output_type": "stream",
     "text": [
      "Método copia con slicing\n",
      "[1, 2, 3, 4, 5]\n",
      "[6, 2, 3, 4, 5]\n",
      "[1, 2, 3, 4, 5]\n"
     ]
    }
   ],
   "source": [
    "print (\"Método copia con slicing\")\n",
    "lista = [1,2,3,4,5]\n",
    "print (lista)\n",
    "copia = lista[:]\n",
    "copia[0] = 6\n",
    "print (copia)\n",
    "print (lista)"
   ]
  },
  {
   "cell_type": "markdown",
   "id": "e4a54dc9",
   "metadata": {},
   "source": [
    "## Funciones con listas"
   ]
  },
  {
   "cell_type": "markdown",
   "id": "f9cefc9d",
   "metadata": {},
   "source": [
    "### len()"
   ]
  },
  {
   "cell_type": "code",
   "execution_count": 33,
   "id": "36c9fd16",
   "metadata": {},
   "outputs": [
    {
     "name": "stdout",
     "output_type": "stream",
     "text": [
      "Función len()\n",
      "[1, True, 3.14, '🐍', 5]\n",
      "5\n"
     ]
    }
   ],
   "source": [
    "print (\"Función len()\")\n",
    "lista = [1,True,3.14,\"🐍\",5]\n",
    "print (lista)\n",
    "print (len(lista))"
   ]
  },
  {
   "cell_type": "markdown",
   "id": "b107a401",
   "metadata": {},
   "source": [
    "### max()"
   ]
  },
  {
   "cell_type": "code",
   "execution_count": 34,
   "id": "80e43ca6",
   "metadata": {},
   "outputs": [
    {
     "name": "stdout",
     "output_type": "stream",
     "text": [
      "Función max()\n",
      "[1, 2, 3, 4, 5]\n",
      "5\n",
      "['a', 'b', 'c', 'd', 'e']\n",
      "e\n"
     ]
    }
   ],
   "source": [
    "print (\"Función max()\")\n",
    "lista = [1,2,3,4,5]\n",
    "print (lista)\n",
    "print (max(lista))\n",
    "lista = [\"a\",\"b\",\"c\",\"d\",\"e\"]\n",
    "print (lista)\n",
    "print (max(lista))"
   ]
  },
  {
   "cell_type": "markdown",
   "id": "7f8fdf12",
   "metadata": {},
   "source": [
    "### min()"
   ]
  },
  {
   "cell_type": "code",
   "execution_count": 35,
   "id": "a0b1fc68",
   "metadata": {},
   "outputs": [
    {
     "name": "stdout",
     "output_type": "stream",
     "text": [
      "Función min()\n",
      "[1, 2, 3, 4, 5]\n",
      "1\n",
      "['a', 'b', 'c', 'd', 'e']\n",
      "a\n"
     ]
    }
   ],
   "source": [
    "print (\"Función min()\")\n",
    "lista = [1,2,3,4,5]\n",
    "print (lista)\n",
    "print (min(lista))\n",
    "lista = [\"a\",\"b\",\"c\",\"d\",\"e\"]\n",
    "print (lista)\n",
    "print (min(lista))"
   ]
  },
  {
   "cell_type": "markdown",
   "id": "43000b5c",
   "metadata": {},
   "source": [
    "### sum()"
   ]
  },
  {
   "cell_type": "code",
   "execution_count": 36,
   "id": "3f9ee671",
   "metadata": {},
   "outputs": [
    {
     "name": "stdout",
     "output_type": "stream",
     "text": [
      "Función sum()\n",
      "[1, 2, 3, 4, 5]\n",
      "15\n"
     ]
    }
   ],
   "source": [
    "print (\"Función sum()\")\n",
    "lista = [1,2,3,4,5]\n",
    "print (lista)\n",
    "print (sum(lista))"
   ]
  },
  {
   "cell_type": "markdown",
   "id": "3a3b8fbb",
   "metadata": {},
   "source": [
    "## Comparación de listas"
   ]
  },
  {
   "cell_type": "markdown",
   "id": "40e9d450",
   "metadata": {},
   "source": [
    "### in - not in"
   ]
  },
  {
   "cell_type": "code",
   "execution_count": 37,
   "id": "0f332cf1",
   "metadata": {},
   "outputs": [
    {
     "name": "stdout",
     "output_type": "stream",
     "text": [
      "Comparación de listas\n",
      "[1, 2, 3, 4, 5]\n",
      "True\n",
      "False\n",
      "False\n",
      "True\n",
      "False\n"
     ]
    }
   ],
   "source": [
    "print (\"Comparación de listas\")\n",
    "lista = [1,2,3,4,5]\n",
    "print (lista)\n",
    "print (3 in lista)\n",
    "print (6 in lista)\n",
    "print (3 not in lista)\n",
    "print (6 not in lista)\n",
    "print ([1,2,3] in lista)"
   ]
  },
  {
   "cell_type": "markdown",
   "id": "b0292c53",
   "metadata": {},
   "source": [
    "### is - is not"
   ]
  },
  {
   "cell_type": "code",
   "execution_count": 38,
   "id": "17ba07cb",
   "metadata": {},
   "outputs": [
    {
     "name": "stdout",
     "output_type": "stream",
     "text": [
      "Comparación de listas\n",
      "[1, 2, 3, 4, 5] [1, 2, 3, 4, 5] [1, 2]\n",
      "False\n",
      "True\n",
      "False\n"
     ]
    }
   ],
   "source": [
    "print (\"Comparación de listas\")\n",
    "lista1 = [1,2,3,4,5]\n",
    "lista2 = [1,2,3,4,5]\n",
    "lista3 = [1,2]\n",
    "print (lista1, lista2, lista3)\n",
    "print (lista1 is lista2)\n",
    "print (lista1 is not lista2)\n",
    "print (lista3 is lista1)"
   ]
  },
  {
   "cell_type": "markdown",
   "id": "19dabc5d",
   "metadata": {},
   "source": [
    "## Operadores de comparación"
   ]
  },
  {
   "cell_type": "markdown",
   "id": "9d8e68da",
   "metadata": {},
   "source": [
    "### < y <="
   ]
  },
  {
   "cell_type": "code",
   "execution_count": 39,
   "id": "2b522f05",
   "metadata": {},
   "outputs": [
    {
     "name": "stdout",
     "output_type": "stream",
     "text": [
      "Menor y Menor Igual que\n",
      "True\n",
      "False\n",
      "True\n",
      "False\n",
      "True\n"
     ]
    }
   ],
   "source": [
    "print (\"Menor y Menor Igual que\")\n",
    "print ([1,2,3] <= [1,2,4])\n",
    "print ([1,2,3] <= [1,2,2,2])\n",
    "print ([1,2,3] <= [2])\n",
    "print ([1,2,3] < [1,2,3])\n",
    "print ([1,2,3] <= [1,2,3])"
   ]
  },
  {
   "cell_type": "markdown",
   "id": "697e5300",
   "metadata": {},
   "source": [
    "### > y >="
   ]
  },
  {
   "cell_type": "code",
   "execution_count": 40,
   "id": "25830372",
   "metadata": {},
   "outputs": [
    {
     "name": "stdout",
     "output_type": "stream",
     "text": [
      "Mayor y Mayor Igual que\n",
      "False\n",
      "True\n",
      "False\n",
      "False\n",
      "True\n"
     ]
    }
   ],
   "source": [
    "print (\"Mayor y Mayor Igual que\")\n",
    "print ([1,2,3] >= [1,2,4])\n",
    "print ([1,2,3] >= [1,2,2,2])\n",
    "print ([1,2,3] >= [2])\n",
    "print ([1,2,3] > [1,2,3])\n",
    "print ([1,2,3] >= [1,2,3])"
   ]
  },
  {
   "cell_type": "markdown",
   "id": "2f511c43",
   "metadata": {},
   "source": [
    "### == y !="
   ]
  },
  {
   "cell_type": "code",
   "execution_count": 41,
   "id": "8d73607d",
   "metadata": {},
   "outputs": [
    {
     "name": "stdout",
     "output_type": "stream",
     "text": [
      "Igual y Desigual que\n",
      "True\n",
      "False\n",
      "False\n",
      "True\n"
     ]
    }
   ],
   "source": [
    "print (\"Igual y Desigual que\")\n",
    "print ([1,2,3] == [1,2,3])\n",
    "print ([1,2,3] == [1,2,4])\n",
    "print ([1,2,3] != [1,2,3])\n",
    "print ([1,2,3] != [1,2,4])"
   ]
  },
  {
   "cell_type": "markdown",
   "id": "2deb3ced",
   "metadata": {},
   "source": [
    "## Listas anidadas"
   ]
  },
  {
   "cell_type": "code",
   "execution_count": 42,
   "id": "2ea7af1d",
   "metadata": {},
   "outputs": [
    {
     "name": "stdout",
     "output_type": "stream",
     "text": [
      "Listas anidadas\n",
      "[1, 2, 3, [4, 5, 6]]\n",
      "<class 'list'>\n",
      "[4, 5, 6]\n",
      "<class 'list'>\n",
      "5\n",
      "<class 'int'>\n"
     ]
    }
   ],
   "source": [
    "print (\"Listas anidadas\")\n",
    "lista = [1,2,3,[4,5,6]]\n",
    "print (lista)\n",
    "print (type(lista))\n",
    "valor_lista = lista[3]\n",
    "print (valor_lista)\n",
    "print (type(valor_lista))\n",
    "valor = valor_lista[1]\n",
    "print (valor)\n",
    "print (type(valor))"
   ]
  }
 ],
 "metadata": {
  "kernelspec": {
   "display_name": "Python 3",
   "language": "python",
   "name": "python3"
  },
  "language_info": {
   "codemirror_mode": {
    "name": "ipython",
    "version": 3
   },
   "file_extension": ".py",
   "mimetype": "text/x-python",
   "name": "python",
   "nbconvert_exporter": "python",
   "pygments_lexer": "ipython3",
   "version": "3.13.3"
  }
 },
 "nbformat": 4,
 "nbformat_minor": 5
}
